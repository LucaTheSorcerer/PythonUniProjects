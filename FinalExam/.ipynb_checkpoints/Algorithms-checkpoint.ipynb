{
 "cells": [
  {
   "cell_type": "code",
   "execution_count": 3,
   "id": "9ce9d4e5",
   "metadata": {},
   "outputs": [],
   "source": [
    "def linearSearch(el, l):\n",
    "    poz = -1\n",
    "    for i in range(0, len(l)):\n",
    "        if el == l[i]:\n",
    "            poz = i\n",
    "    return poz"
   ]
  },
  {
   "cell_type": "code",
   "execution_count": 4,
   "id": "2ef05ce4",
   "metadata": {},
   "outputs": [
    {
     "name": "stdout",
     "output_type": "stream",
     "text": [
      "1\n"
     ]
    }
   ],
   "source": [
    "def main():\n",
    "    l = [1, 2, 3, 4]\n",
    "    print(linearSearch(2, l))\n",
    "main()"
   ]
  },
  {
   "cell_type": "markdown",
   "id": "4af3ee39",
   "metadata": {},
   "source": [
    "# Binary Search"
   ]
  },
  {
   "cell_type": "markdown",
   "id": "905b5a3e",
   "metadata": {},
   "source": [
    "## Non-recursive"
   ]
  },
  {
   "cell_type": "code",
   "execution_count": 1,
   "id": "21741d7c",
   "metadata": {},
   "outputs": [],
   "source": [
    "def nonrecursive_binary(el, lst):\n",
    "    start = 0\n",
    "    end = len(lst)\n",
    "    \n",
    "    while start <= end:\n",
    "        mid = (start + end) // 2\n",
    "        \n",
    "        if lst[mid] == el:\n",
    "            return mid\n",
    "        \n",
    "        if lst[mid] < el:\n",
    "            start = mid + 1\n",
    "        if lst[mid] > el:\n",
    "            end = mid - 1\n",
    "            \n",
    "    return -1"
   ]
  },
  {
   "cell_type": "code",
   "execution_count": null,
   "id": "0c747ec9",
   "metadata": {},
   "outputs": [],
   "source": []
  },
  {
   "cell_type": "code",
   "execution_count": 3,
   "id": "4bce69af",
   "metadata": {},
   "outputs": [
    {
     "name": "stdout",
     "output_type": "stream",
     "text": [
      "5\n"
     ]
    }
   ],
   "source": [
    "def main():\n",
    "    el = 6\n",
    "    lst = [1, 2, 3, 4, 5, 6, 7, 8, 9, 10]\n",
    "    print(nonrecursive_binary(el, lst))\n",
    "main()"
   ]
  },
  {
   "cell_type": "markdown",
   "id": "2a6bd42c",
   "metadata": {},
   "source": [
    "## Recursive"
   ]
  },
  {
   "cell_type": "code",
   "execution_count": 6,
   "id": "4317f6b1",
   "metadata": {},
   "outputs": [],
   "source": [
    "def recursive_binary(el, lst, start, end):\n",
    "    if start <= end:\n",
    "        mid = (start + end) // 2\n",
    "\n",
    "        if el == lst[mid]:\n",
    "            return mid\n",
    "\n",
    "        if lst[mid] > el:\n",
    "            return recursive_binary(el, lst, start, mid-1)\n",
    "        else:\n",
    "            return recursie_binary(el, lst, start + 1, end)\n",
    "    return -1"
   ]
  },
  {
   "cell_type": "code",
   "execution_count": 7,
   "id": "237df36d",
   "metadata": {},
   "outputs": [
    {
     "name": "stdout",
     "output_type": "stream",
     "text": [
      "5\n"
     ]
    }
   ],
   "source": [
    "def main():\n",
    "    el = 6\n",
    "    lst = [1, 2, 3, 4, 5, 6, 7, 8, 9, 10]\n",
    "    print(recursive_binary(el, lst, 0, len(lst)))\n",
    "main()"
   ]
  },
  {
   "cell_type": "markdown",
   "id": "ecdaf303",
   "metadata": {},
   "source": [
    "# Bubble Sort"
   ]
  },
  {
   "cell_type": "markdown",
   "id": "6ff8b386",
   "metadata": {},
   "source": [
    "## Non-recursive"
   ]
  },
  {
   "cell_type": "code",
   "execution_count": 9,
   "id": "427f092a",
   "metadata": {},
   "outputs": [
    {
     "name": "stdout",
     "output_type": "stream",
     "text": [
      "[0, 2, 4, 6, 9, 11, 69, 78, 420]\n"
     ]
    }
   ],
   "source": [
    "def bubble_sort(array):\n",
    "    sorted = False\n",
    "    \n",
    "    while not sorted:\n",
    "        sorted = True\n",
    "        \n",
    "        for i in range(1, len(array)):\n",
    "            if array[i-1] > array[i]:\n",
    "                array[i], array[i-1] = array[i-1], array[i]\n",
    "                sorted = False\n",
    "    return array\n",
    "\n",
    "print(bubble_sort([2, 0, 9, 6, 11, 78, 69, 4, 420]))"
   ]
  },
  {
   "cell_type": "markdown",
   "id": "9e5d0528",
   "metadata": {},
   "source": [
    "## Recursive"
   ]
  },
  {
   "cell_type": "code",
   "execution_count": 10,
   "id": "d17c3a3d",
   "metadata": {},
   "outputs": [
    {
     "name": "stdout",
     "output_type": "stream",
     "text": [
      "[0, 2, 4, 6, 9, 11, 69, 78, 420]\n"
     ]
    }
   ],
   "source": [
    "def recursive_bubble_sort(array):\n",
    "    count = 0\n",
    "    for i in range(1, len(array)):\n",
    "        if array[i-1] > array[i]:\n",
    "            array[i], array[i-1] = array[i-1], array[i]\n",
    "            count += 1\n",
    "    if count == 0:\n",
    "        return array\n",
    "    else:\n",
    "        return recursive_bubble_sort(array)\n",
    "    \n",
    "print(recursive_bubble_sort([2, 0, 9, 6, 11, 78, 69, 4, 420]))"
   ]
  },
  {
   "cell_type": "code",
   "execution_count": null,
   "id": "1c00ce61",
   "metadata": {},
   "outputs": [],
   "source": []
  }
 ],
 "metadata": {
  "kernelspec": {
   "display_name": "Python 3 (ipykernel)",
   "language": "python",
   "name": "python3"
  },
  "language_info": {
   "codemirror_mode": {
    "name": "ipython",
    "version": 3
   },
   "file_extension": ".py",
   "mimetype": "text/x-python",
   "name": "python",
   "nbconvert_exporter": "python",
   "pygments_lexer": "ipython3",
   "version": "3.9.7"
  }
 },
 "nbformat": 4,
 "nbformat_minor": 5
}
