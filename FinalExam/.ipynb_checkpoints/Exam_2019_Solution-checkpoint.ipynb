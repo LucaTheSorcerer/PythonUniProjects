{
 "cells": [
  {
   "cell_type": "markdown",
   "id": "d0613837",
   "metadata": {},
   "source": [
    "# Exam 2019 Solutions"
   ]
  },
  {
   "cell_type": "markdown",
   "id": "53f3dda6",
   "metadata": {},
   "source": [
    "## Exercise 1"
   ]
  },
  {
   "cell_type": "code",
   "execution_count": 2,
   "id": "2f167380",
   "metadata": {},
   "outputs": [
    {
     "ename": "AttributeError",
     "evalue": "'dict' object has no attribute 'append'",
     "output_type": "error",
     "traceback": [
      "\u001b[0;31m---------------------------------------------------------------------------\u001b[0m",
      "\u001b[0;31mAttributeError\u001b[0m                            Traceback (most recent call last)",
      "\u001b[0;32m/var/folders/y3/7t134x0x04xglfbbg5tf61nh0000gn/T/ipykernel_1212/4263225962.py\u001b[0m in \u001b[0;36m<module>\u001b[0;34m\u001b[0m\n\u001b[1;32m      1\u001b[0m \u001b[0md\u001b[0m \u001b[0;34m=\u001b[0m \u001b[0;34m{\u001b[0m\u001b[0;34m}\u001b[0m\u001b[0;34m\u001b[0m\u001b[0;34m\u001b[0m\u001b[0m\n\u001b[0;32m----> 2\u001b[0;31m \u001b[0md\u001b[0m\u001b[0;34m.\u001b[0m\u001b[0mappend\u001b[0m\u001b[0;34m(\u001b[0m\u001b[0;36m10\u001b[0m\u001b[0;34m)\u001b[0m\u001b[0;34m\u001b[0m\u001b[0;34m\u001b[0m\u001b[0m\n\u001b[0m",
      "\u001b[0;31mAttributeError\u001b[0m: 'dict' object has no attribute 'append'"
     ]
    }
   ],
   "source": [
    "d = {}\n",
    "d.append(10)"
   ]
  },
  {
   "cell_type": "code",
   "execution_count": 3,
   "id": "074b4674",
   "metadata": {},
   "outputs": [
    {
     "ename": "TypeError",
     "evalue": "unsupported operand type(s) for ** or pow(): 'str' and 'int'",
     "output_type": "error",
     "traceback": [
      "\u001b[0;31m---------------------------------------------------------------------------\u001b[0m",
      "\u001b[0;31mTypeError\u001b[0m                                 Traceback (most recent call last)",
      "\u001b[0;32m/var/folders/y3/7t134x0x04xglfbbg5tf61nh0000gn/T/ipykernel_1212/3349197684.py\u001b[0m in \u001b[0;36m<module>\u001b[0;34m\u001b[0m\n\u001b[1;32m      1\u001b[0m \u001b[0mstar\u001b[0m \u001b[0;34m=\u001b[0m \u001b[0;34m'*'\u001b[0m\u001b[0;34m\u001b[0m\u001b[0;34m\u001b[0m\u001b[0m\n\u001b[0;32m----> 2\u001b[0;31m \u001b[0mprint\u001b[0m\u001b[0;34m(\u001b[0m\u001b[0mstar\u001b[0m \u001b[0;34m**\u001b[0m \u001b[0;36m2019\u001b[0m\u001b[0;34m)\u001b[0m\u001b[0;34m\u001b[0m\u001b[0;34m\u001b[0m\u001b[0m\n\u001b[0m",
      "\u001b[0;31mTypeError\u001b[0m: unsupported operand type(s) for ** or pow(): 'str' and 'int'"
     ]
    }
   ],
   "source": [
    "star = '*'\n",
    "print(star ** 2019)"
   ]
  },
  {
   "cell_type": "code",
   "execution_count": 4,
   "id": "fa4bc638",
   "metadata": {},
   "outputs": [
    {
     "ename": "IndentationError",
     "evalue": "expected an indented block (1312088752.py, line 3)",
     "output_type": "error",
     "traceback": [
      "\u001b[0;36m  File \u001b[0;32m\"/var/folders/y3/7t134x0x04xglfbbg5tf61nh0000gn/T/ipykernel_1212/1312088752.py\"\u001b[0;36m, line \u001b[0;32m3\u001b[0m\n\u001b[0;31m    #magic\u001b[0m\n\u001b[0m          ^\u001b[0m\n\u001b[0;31mIndentationError\u001b[0m\u001b[0;31m:\u001b[0m expected an indented block\n"
     ]
    }
   ],
   "source": [
    "class T:\n",
    "    def __del__(self):\n",
    "        #magic"
   ]
  },
  {
   "cell_type": "code",
   "execution_count": 5,
   "id": "903d6b47",
   "metadata": {},
   "outputs": [
    {
     "ename": "NameError",
     "evalue": "name 'fopen' is not defined",
     "output_type": "error",
     "traceback": [
      "\u001b[0;31m---------------------------------------------------------------------------\u001b[0m",
      "\u001b[0;31mNameError\u001b[0m                                 Traceback (most recent call last)",
      "\u001b[0;32m/var/folders/y3/7t134x0x04xglfbbg5tf61nh0000gn/T/ipykernel_1212/3406209307.py\u001b[0m in \u001b[0;36m<module>\u001b[0;34m\u001b[0m\n\u001b[1;32m      1\u001b[0m \u001b[0ms\u001b[0m \u001b[0;34m=\u001b[0m \u001b[0;34m\"file\"\u001b[0m\u001b[0;34m\u001b[0m\u001b[0;34m\u001b[0m\u001b[0m\n\u001b[0;32m----> 2\u001b[0;31m \u001b[0mfopen\u001b[0m\u001b[0;34m(\u001b[0m\u001b[0ms\u001b[0m\u001b[0;34m,\u001b[0m \u001b[0;34m\"r\"\u001b[0m\u001b[0;34m)\u001b[0m\u001b[0;34m\u001b[0m\u001b[0;34m\u001b[0m\u001b[0m\n\u001b[0m",
      "\u001b[0;31mNameError\u001b[0m: name 'fopen' is not defined"
     ]
    }
   ],
   "source": [
    "s = \"file\"\n",
    "fopen(s, \"r\")"
   ]
  },
  {
   "cell_type": "code",
   "execution_count": 6,
   "id": "23232d4a",
   "metadata": {},
   "outputs": [
    {
     "ename": "SyntaxError",
     "evalue": "invalid syntax (4076805077.py, line 1)",
     "output_type": "error",
     "traceback": [
      "\u001b[0;36m  File \u001b[0;32m\"/var/folders/y3/7t134x0x04xglfbbg5tf61nh0000gn/T/ipykernel_1212/4076805077.py\"\u001b[0;36m, line \u001b[0;32m1\u001b[0m\n\u001b[0;31m    class class:\u001b[0m\n\u001b[0m          ^\u001b[0m\n\u001b[0;31mSyntaxError\u001b[0m\u001b[0;31m:\u001b[0m invalid syntax\n"
     ]
    }
   ],
   "source": [
    "class class:\n",
    "    t = 0"
   ]
  },
  {
   "cell_type": "markdown",
   "id": "5b2c45eb",
   "metadata": {},
   "source": [
    "## Exercise 2"
   ]
  },
  {
   "cell_type": "code",
   "execution_count": null,
   "id": "0cfff5f2",
   "metadata": {},
   "outputs": [],
   "source": []
  },
  {
   "cell_type": "markdown",
   "id": "54e63910",
   "metadata": {},
   "source": [
    "## Exercise 3"
   ]
  },
  {
   "cell_type": "markdown",
   "id": "4526200e",
   "metadata": {},
   "source": [
    "A. Gegeben sei eine verschachtelte Liste von Zahlen. Schreiben Sie eine rekursive Funktion, welche von dieser Liste eine flache Liste\n",
    "erstellt. \n",
    "\n",
    "B. Gegeben sei eine Liste mit Temperaturwerten in Grad Celsius. Schreiben Sie eine Funktion, welche jede Temperatur in Grad\n",
    "Fahrenheit wandelt. Eine Temperatur C in Grad Celsius lässt sich mittels der Formel 9/5 * C + 32 in Grad Fahrenheit wandeln.\n",
    "For/While-Schleife und Rekursion sind nicht erlaubt!"
   ]
  },
  {
   "cell_type": "code",
   "execution_count": 7,
   "id": "c42bb855",
   "metadata": {},
   "outputs": [
    {
     "name": "stdout",
     "output_type": "stream",
     "text": [
      "[1, 2, 3, 4, 5, 6, 7, 8, 9]\n"
     ]
    }
   ],
   "source": [
    "#A\n",
    "lst = [[1, 2, 3], [4, 5, 6], [7, 8, 9]]\n",
    "\n",
    "def return_list(lst):\n",
    "    flat_list = []\n",
    "    for element in lst:\n",
    "        if type(element) is list:\n",
    "            flat_list.extend(return_list(element))\n",
    "        else:\n",
    "            flat_list.append(element)\n",
    "    return flat_list\n",
    "print(return_list(lst))\n",
    "            "
   ]
  },
  {
   "cell_type": "code",
   "execution_count": 10,
   "id": "b4c8903c",
   "metadata": {},
   "outputs": [
    {
     "name": "stdout",
     "output_type": "stream",
     "text": [
      "[42, 43, 64, 72, 47, 53]\n"
     ]
    }
   ],
   "source": [
    "#B\n",
    "lst = [10, 11, 32, 40, 15, 21]\n",
    "\n",
    "def fahrenheit(lst):\n",
    "    transform = list(map(lambda temperature: 9//5 * temperature + 32, lst))\n",
    "    return transform\n",
    "print(fahrenheit(lst))"
   ]
  },
  {
   "cell_type": "markdown",
   "id": "77f9aa13",
   "metadata": {},
   "source": [
    "## Exercise 4"
   ]
  },
  {
   "cell_type": "markdown",
   "id": "dd9be6e4",
   "metadata": {},
   "source": [
    "A. Erstellen Sie eine Klasse Point, welche einen Punt in einem dreidimensionalen Raum repräsentiert, d.h. jeder Punkt hat eine x-,\n",
    "eine y- und eine z-Koordinate als reelle Zahlen. Die Klasse hat auch eine Farbe als in String Attribut und soll einen Konstruktor\n",
    "haben. Der Konstruktor soll nur die drei Koordinate durch Parameters initialisieren. Die Farbe ist immer blau bei der Erzeugung. \n",
    "\n",
    "B. Erweitern Sie die Klasse Point um eine Methode color, welche den Punkt fart. Die Farbe ist als Parameter gegeben. \n",
    "\n",
    "C. Erweitern Sie die Klasse Point um eine Methode, welche den geeigneten Python Operator implementiert, damit man zwei Instanzen\n",
    "der Klasse Point vergleichen kann. Der Vergleich ist basiert af die Farbe in einer lexikographischen Weise. \n",
    "\n",
    "D. Erstellen Sie eine Liste mit fünf Objekten mit eindeutigen Farben vom Typ-Point. Eine Farbe soll blau sein. Sortieren Sie die Liste\n",
    "mit Hilfe von der standard Sorting-Funktion in Python. \n",
    "\n",
    "E. Implementieren Sie eine Funktion find points, welche die Liste von Punkt D und eine Farbe als Parameter bekommt. Die\n",
    "Funktion soll den Punkt, der mit der eingegebenen Farbe gefarbt ist, zurückgeben. Implementieren Sie die Binare Suche"
   ]
  },
  {
   "cell_type": "code",
   "execution_count": 66,
   "id": "4811986e",
   "metadata": {},
   "outputs": [],
   "source": [
    "class Point:\n",
    "    def __init__(self, x, y, z):\n",
    "        self.x = x\n",
    "        self.y = y\n",
    "        self.z = z\n",
    "        self.farbe = \"blau\"\n",
    "        \n",
    "    def farbe(self, new_color):\n",
    "        self.farbe = new_color\n",
    "        \n",
    "    def __lt__(self, other):\n",
    "        return self.farbe < other.farbe\n",
    "    def __repr__(self):\n",
    "        return f\"Point = {self.farbe}\"\n",
    "    \n",
    "    def __cmp__(self, other):\n",
    "        return str.__cmp__(self.farbe, other.farbe)\n"
   ]
  },
  {
   "cell_type": "code",
   "execution_count": 67,
   "id": "35f36a2a",
   "metadata": {},
   "outputs": [
    {
     "name": "stdout",
     "output_type": "stream",
     "text": [
      "blau\n",
      "green\n"
     ]
    }
   ],
   "source": [
    "def main():\n",
    "    \n",
    "    p1 = Point(1, 2, 3)\n",
    "    print(p1.farbe)\n",
    "    p1.farbe = \"green\"\n",
    "    print(p1.farbe)\n",
    "main()"
   ]
  },
  {
   "cell_type": "code",
   "execution_count": 68,
   "id": "71b8b803",
   "metadata": {},
   "outputs": [
    {
     "name": "stdout",
     "output_type": "stream",
     "text": [
      "[Point = blau, Point = blau, Point = orange, Point = purple, Point = white]\n"
     ]
    }
   ],
   "source": [
    "list_of_points = [Point(1,2,3), Point(4, 5, 6), Point(7, 8, 9), Point(10, 11, 12), Point(13, 14, 15)]\n",
    "list_of_points[2].farbe = \"orange\" \n",
    "list_of_points[3].farbe = \"purple\"\n",
    "list_of_points[1].farbe = \"white\"\n",
    "\n",
    "list_of_points.sort()\n",
    "print(list_of_points)"
   ]
  },
  {
   "cell_type": "code",
   "execution_count": 69,
   "id": "12d0b1fe",
   "metadata": {},
   "outputs": [
    {
     "name": "stdout",
     "output_type": "stream",
     "text": [
      "-1\n"
     ]
    }
   ],
   "source": [
    "def find_points(list_of_points, farbe):\n",
    "    list_of_points.sort()\n",
    "    new_point = Point(0, 0, 0)\n",
    "    new_point.farbe = farbe\n",
    "    \n",
    "    start = 0\n",
    "    end = len(list_of_points)\n",
    "    \n",
    "    while start <= end:\n",
    "        mid = (start + end) // 2\n",
    "        \n",
    "        if list_of_points[mid] == new_point:\n",
    "            return mid\n",
    "        if new_point > list_of_points[mid]:\n",
    "            start = mid + 1\n",
    "        else:\n",
    "            end = mid - 1\n",
    "    return -1\n",
    "\n",
    "print(find_points(list_of_points, \"blau\"))"
   ]
  },
  {
   "cell_type": "code",
   "execution_count": 70,
   "id": "8b342abe",
   "metadata": {},
   "outputs": [
    {
     "name": "stdout",
     "output_type": "stream",
     "text": [
      "-1\n"
     ]
    }
   ],
   "source": [
    "def find_points(liste: list, farbe: str):\n",
    "    liste.sort()\n",
    "\n",
    "    new_point = Point(0, 0, 0)\n",
    "    new_point.farbe = farbe\n",
    "\n",
    "    start = 0\n",
    "    end = len(liste)\n",
    "\n",
    "    while start <= end:\n",
    "        middle = (start + end) // 2\n",
    "\n",
    "        if liste[middle] == new_point:\n",
    "            return middle\n",
    "        elif new_point < liste[middle]:\n",
    "            end = middle - 1\n",
    "        else:\n",
    "            start = middle + 1\n",
    "\n",
    "    return -1\n",
    "print(find_points(list_of_points, \"blau\"))"
   ]
  },
  {
   "cell_type": "code",
   "execution_count": null,
   "id": "25d96744",
   "metadata": {},
   "outputs": [],
   "source": []
  }
 ],
 "metadata": {
  "kernelspec": {
   "display_name": "Python 3 (ipykernel)",
   "language": "python",
   "name": "python3"
  },
  "language_info": {
   "codemirror_mode": {
    "name": "ipython",
    "version": 3
   },
   "file_extension": ".py",
   "mimetype": "text/x-python",
   "name": "python",
   "nbconvert_exporter": "python",
   "pygments_lexer": "ipython3",
   "version": "3.9.7"
  }
 },
 "nbformat": 4,
 "nbformat_minor": 5
}
