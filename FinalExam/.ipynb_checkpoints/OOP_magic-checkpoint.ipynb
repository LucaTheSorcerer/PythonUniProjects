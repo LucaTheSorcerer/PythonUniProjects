{
 "cells": [
  {
   "cell_type": "markdown",
   "id": "bbcf7ff3",
   "metadata": {},
   "source": [
    "## Hooks\n"
   ]
  },
  {
   "cell_type": "code",
   "execution_count": 3,
   "id": "74df9936",
   "metadata": {},
   "outputs": [],
   "source": [
    "class R:\n",
    "    def __init__(self, a, b):\n",
    "        if b == 0:\n",
    "            raise ZeroDivisionError(\"b cannot be 0\")\n",
    "        if isinstance(a, int) and isinstance(b, int):\n",
    "            self.__a = a\n",
    "            self.__b = b\n",
    "            \n",
    "        else:\n",
    "            raise ValueError(\"args should be int\")\n",
    "            \n",
    "    def __add__(self, o):\n",
    "        return R(self.a*o.b + self.b*o.a, self.b*o.b)\n",
    "    \n",
    "    def __lt__(self, o):\n",
    "        return self.a/self.b < o.a/o.b\n",
    "    \n",
    "    def __eq__(self, o):\n",
    "        return self.a == o.a and self.b == o.b\n",
    "    \n",
    "    def __str__(self):\n",
    "        if self.b == 1:\n",
    "            return str(self._numerator)\n",
    "        return \"%i%i\" % (self.a, self.b)\n",
    "    \n",
    "    @property\n",
    "    def a(self):\n",
    "        return self.__a\n",
    "    \n",
    "    @property\n",
    "    def b(self):\n",
    "        return self.__b"
   ]
  },
  {
   "cell_type": "code",
   "execution_count": 6,
   "id": "4765ee75",
   "metadata": {},
   "outputs": [
    {
     "name": "stdout",
     "output_type": "stream",
     "text": [
      "True\n",
      "44\n",
      "True\n",
      "Fraction not Valid\n",
      "here\n"
     ]
    }
   ],
   "source": [
    "def main():\n",
    "    r = R(1, 2)\n",
    "    print(R(1, 2) == R(1, 2))\n",
    "    \n",
    "    print(r + R(1, 2))\n",
    "    \n",
    "    print(r < R(2, 3))\n",
    "    \n",
    "    try:\n",
    "        p = R(1, 0)\n",
    "    except ZeroDivisionError:\n",
    "        print(\"Fraction not Valid\")\n",
    "    except ValueError:\n",
    "        print(\"Types not Valid\")\n",
    "        \n",
    "    print(\"here\")\n",
    "main()"
   ]
  },
  {
   "cell_type": "markdown",
   "id": "72f56693",
   "metadata": {},
   "source": [
    "## NamedTulpe"
   ]
  },
  {
   "cell_type": "code",
   "execution_count": 7,
   "id": "16385624",
   "metadata": {},
   "outputs": [],
   "source": [
    "from collections import namedtuple\n",
    "\n",
    "Color = namedtuple(\"Color\", \"red green blue\")\n",
    "\n",
    "red = Color(255, 0, 0)\n",
    "green = Color(red = 0, green = 255, blue = 0)\n"
   ]
  },
  {
   "cell_type": "code",
   "execution_count": 9,
   "id": "f4fb7cbb",
   "metadata": {},
   "outputs": [
    {
     "data": {
      "text/plain": [
       "0"
      ]
     },
     "execution_count": 9,
     "metadata": {},
     "output_type": "execute_result"
    }
   ],
   "source": [
    "green.red"
   ]
  },
  {
   "cell_type": "code",
   "execution_count": 12,
   "id": "0d5ec60d",
   "metadata": {},
   "outputs": [],
   "source": [
    "from typing import NamedTuple\n",
    "\n",
    "class Color(NamedTuple):\n",
    "    red:int\n",
    "    green:int\n",
    "    blue:int = 0"
   ]
  },
  {
   "cell_type": "code",
   "execution_count": 13,
   "id": "0515f6e7",
   "metadata": {},
   "outputs": [],
   "source": [
    "red = Color(255, 0)\n",
    "green = Color(red = 0, green = 255, blue = 0)"
   ]
  },
  {
   "cell_type": "markdown",
   "id": "734e7e7b",
   "metadata": {},
   "source": [
    "## Simple Namespace"
   ]
  },
  {
   "cell_type": "code",
   "execution_count": 14,
   "id": "a9336387",
   "metadata": {},
   "outputs": [],
   "source": [
    "from types import SimpleNamespace\n",
    "\n",
    "red = SimpleNamespace(red = 255, green = 0, blue = 0)"
   ]
  },
  {
   "cell_type": "code",
   "execution_count": 15,
   "id": "30ddef3e",
   "metadata": {},
   "outputs": [
    {
     "data": {
      "text/plain": [
       "255"
      ]
     },
     "execution_count": 15,
     "metadata": {},
     "output_type": "execute_result"
    }
   ],
   "source": [
    "red.red"
   ]
  },
  {
   "cell_type": "markdown",
   "id": "f002da3f",
   "metadata": {},
   "source": [
    "## Immutability"
   ]
  },
  {
   "cell_type": "code",
   "execution_count": 18,
   "id": "22941ce3",
   "metadata": {},
   "outputs": [],
   "source": [
    "class Student:\n",
    "    def __init__(self, name):\n",
    "        self.name = name\n",
    "        \n",
    "    def __setattr__(self, name, value):\n",
    "        raise TypeError(f\"Cannot set {name}\")\n",
    "        \n",
    "    def __delattr__(self, name):\n",
    "        raise TypeError(f\"Cannot delete {name}\")"
   ]
  },
  {
   "cell_type": "code",
   "execution_count": 19,
   "id": "19138bb9",
   "metadata": {},
   "outputs": [
    {
     "ename": "TypeError",
     "evalue": "Cannot set name",
     "output_type": "error",
     "traceback": [
      "\u001b[0;31m---------------------------------------------------------------------------\u001b[0m",
      "\u001b[0;31mTypeError\u001b[0m                                 Traceback (most recent call last)",
      "\u001b[0;32m/var/folders/y3/7t134x0x04xglfbbg5tf61nh0000gn/T/ipykernel_1641/3849793366.py\u001b[0m in \u001b[0;36m<module>\u001b[0;34m\u001b[0m\n\u001b[0;32m----> 1\u001b[0;31m \u001b[0mbob\u001b[0m \u001b[0;34m=\u001b[0m \u001b[0mStudent\u001b[0m\u001b[0;34m(\u001b[0m\u001b[0;34m\"bob\"\u001b[0m\u001b[0;34m)\u001b[0m\u001b[0;34m\u001b[0m\u001b[0;34m\u001b[0m\u001b[0m\n\u001b[0m",
      "\u001b[0;32m/var/folders/y3/7t134x0x04xglfbbg5tf61nh0000gn/T/ipykernel_1641/1775821838.py\u001b[0m in \u001b[0;36m__init__\u001b[0;34m(self, name)\u001b[0m\n\u001b[1;32m      1\u001b[0m \u001b[0;32mclass\u001b[0m \u001b[0mStudent\u001b[0m\u001b[0;34m:\u001b[0m\u001b[0;34m\u001b[0m\u001b[0;34m\u001b[0m\u001b[0m\n\u001b[1;32m      2\u001b[0m     \u001b[0;32mdef\u001b[0m \u001b[0m__init__\u001b[0m\u001b[0;34m(\u001b[0m\u001b[0mself\u001b[0m\u001b[0;34m,\u001b[0m \u001b[0mname\u001b[0m\u001b[0;34m)\u001b[0m\u001b[0;34m:\u001b[0m\u001b[0;34m\u001b[0m\u001b[0;34m\u001b[0m\u001b[0m\n\u001b[0;32m----> 3\u001b[0;31m         \u001b[0mself\u001b[0m\u001b[0;34m.\u001b[0m\u001b[0mname\u001b[0m \u001b[0;34m=\u001b[0m \u001b[0mname\u001b[0m\u001b[0;34m\u001b[0m\u001b[0;34m\u001b[0m\u001b[0m\n\u001b[0m\u001b[1;32m      4\u001b[0m \u001b[0;34m\u001b[0m\u001b[0m\n\u001b[1;32m      5\u001b[0m     \u001b[0;32mdef\u001b[0m \u001b[0m__setattr__\u001b[0m\u001b[0;34m(\u001b[0m\u001b[0mself\u001b[0m\u001b[0;34m,\u001b[0m \u001b[0mname\u001b[0m\u001b[0;34m,\u001b[0m \u001b[0mvalue\u001b[0m\u001b[0;34m)\u001b[0m\u001b[0;34m:\u001b[0m\u001b[0;34m\u001b[0m\u001b[0;34m\u001b[0m\u001b[0m\n",
      "\u001b[0;32m/var/folders/y3/7t134x0x04xglfbbg5tf61nh0000gn/T/ipykernel_1641/1775821838.py\u001b[0m in \u001b[0;36m__setattr__\u001b[0;34m(self, name, value)\u001b[0m\n\u001b[1;32m      4\u001b[0m \u001b[0;34m\u001b[0m\u001b[0m\n\u001b[1;32m      5\u001b[0m     \u001b[0;32mdef\u001b[0m \u001b[0m__setattr__\u001b[0m\u001b[0;34m(\u001b[0m\u001b[0mself\u001b[0m\u001b[0;34m,\u001b[0m \u001b[0mname\u001b[0m\u001b[0;34m,\u001b[0m \u001b[0mvalue\u001b[0m\u001b[0;34m)\u001b[0m\u001b[0;34m:\u001b[0m\u001b[0;34m\u001b[0m\u001b[0;34m\u001b[0m\u001b[0m\n\u001b[0;32m----> 6\u001b[0;31m         \u001b[0;32mraise\u001b[0m \u001b[0mTypeError\u001b[0m\u001b[0;34m(\u001b[0m\u001b[0;34mf\"Cannot set {name}\"\u001b[0m\u001b[0;34m)\u001b[0m\u001b[0;34m\u001b[0m\u001b[0;34m\u001b[0m\u001b[0m\n\u001b[0m\u001b[1;32m      7\u001b[0m \u001b[0;34m\u001b[0m\u001b[0m\n\u001b[1;32m      8\u001b[0m     \u001b[0;32mdef\u001b[0m \u001b[0m__delattr__\u001b[0m\u001b[0;34m(\u001b[0m\u001b[0mself\u001b[0m\u001b[0;34m,\u001b[0m \u001b[0mname\u001b[0m\u001b[0;34m)\u001b[0m\u001b[0;34m:\u001b[0m\u001b[0;34m\u001b[0m\u001b[0;34m\u001b[0m\u001b[0m\n",
      "\u001b[0;31mTypeError\u001b[0m: Cannot set name"
     ]
    }
   ],
   "source": [
    "bob = Student(\"bob\")"
   ]
  },
  {
   "cell_type": "markdown",
   "id": "1acbd4ba",
   "metadata": {},
   "source": [
    "## DataClass"
   ]
  },
  {
   "cell_type": "code",
   "execution_count": 20,
   "id": "088341f8",
   "metadata": {},
   "outputs": [],
   "source": [
    "from dataclasses import dataclass\n",
    "\n",
    "@dataclass\n",
    "class Color:\n",
    "    red:int\n",
    "    green: int\n",
    "    blue:int"
   ]
  },
  {
   "cell_type": "code",
   "execution_count": 21,
   "id": "8f3aa567",
   "metadata": {},
   "outputs": [],
   "source": [
    "red = Color(255, 0, 0)"
   ]
  },
  {
   "cell_type": "code",
   "execution_count": 22,
   "id": "835ffa78",
   "metadata": {},
   "outputs": [
    {
     "data": {
      "text/plain": [
       "Color(red=255, green=0, blue=0)"
      ]
     },
     "execution_count": 22,
     "metadata": {},
     "output_type": "execute_result"
    }
   ],
   "source": [
    "red"
   ]
  },
  {
   "cell_type": "markdown",
   "id": "04c86202",
   "metadata": {},
   "source": [
    "## __new__ vs __init__"
   ]
  },
  {
   "cell_type": "code",
   "execution_count": 23,
   "id": "c5ab76d9",
   "metadata": {},
   "outputs": [],
   "source": [
    "class T:\n",
    "    def __init__(self):\n",
    "        print(\"T::init() called...\")\n",
    "    \n",
    "    def __call__(self):\n",
    "        print(\"T::call() called...\")"
   ]
  },
  {
   "cell_type": "code",
   "execution_count": 24,
   "id": "c458a4fe",
   "metadata": {},
   "outputs": [
    {
     "name": "stdout",
     "output_type": "stream",
     "text": [
      "T::init() called...\n"
     ]
    }
   ],
   "source": [
    "t = T()"
   ]
  },
  {
   "cell_type": "code",
   "execution_count": 26,
   "id": "196bb4ac",
   "metadata": {},
   "outputs": [
    {
     "name": "stdout",
     "output_type": "stream",
     "text": [
      "T::call() called...\n"
     ]
    }
   ],
   "source": [
    "t()"
   ]
  },
  {
   "cell_type": "markdown",
   "id": "08f098d8",
   "metadata": {},
   "source": [
    "## Class Special Methods"
   ]
  },
  {
   "cell_type": "code",
   "execution_count": null,
   "id": "f38ca05b",
   "metadata": {},
   "outputs": [],
   "source": [
    "class PointName:\n",
    "    def __init__(self, name):\n",
    "        self.name = name\n",
    "\n",
    "class Point(PointName):\n",
    "    def __init__(self, x, y, name):\n",
    "        super().__init__(name)\n",
    "        self.x = x\n",
    "        self.y = y\n",
    "    \n",
    "    def __str__(x, y):\n",
    "        return f\"Point=({self.x},{self.y})\"\n",
    "    \n",
    "    def __repr__(x, y):\n",
    "        return f\"Point=({self.x}, {self.y})\"\n",
    "    \n",
    "    def __add__(self, delta):\n",
    "        return Point(self.x + delta, self.y + delta)\n",
    "    \n",
    "    def __sub__(self, )"
   ]
  }
 ],
 "metadata": {
  "kernelspec": {
   "display_name": "Python 3 (ipykernel)",
   "language": "python",
   "name": "python3"
  },
  "language_info": {
   "codemirror_mode": {
    "name": "ipython",
    "version": 3
   },
   "file_extension": ".py",
   "mimetype": "text/x-python",
   "name": "python",
   "nbconvert_exporter": "python",
   "pygments_lexer": "ipython3",
   "version": "3.9.7"
  }
 },
 "nbformat": 4,
 "nbformat_minor": 5
}
