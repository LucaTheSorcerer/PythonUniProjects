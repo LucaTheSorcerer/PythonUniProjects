{
 "cells": [
  {
   "cell_type": "code",
   "execution_count": 3,
   "id": "9ce9d4e5",
   "metadata": {},
   "outputs": [],
   "source": [
    "def linearSearch(el, l):\n",
    "    poz = -1\n",
    "    for i in range(0, len(l)):\n",
    "        if el == l[i]:\n",
    "            poz = i\n",
    "    return poz"
   ]
  },
  {
   "cell_type": "code",
   "execution_count": 4,
   "id": "2ef05ce4",
   "metadata": {},
   "outputs": [
    {
     "name": "stdout",
     "output_type": "stream",
     "text": [
      "1\n"
     ]
    }
   ],
   "source": [
    "def main():\n",
    "    l = [1, 2, 3, 4]\n",
    "    print(linearSearch(2, l))\n",
    "main()"
   ]
  },
  {
   "cell_type": "markdown",
   "id": "4af3ee39",
   "metadata": {},
   "source": [
    "# Binary Search"
   ]
  },
  {
   "cell_type": "markdown",
   "id": "905b5a3e",
   "metadata": {},
   "source": [
    "## Non-recursive"
   ]
  },
  {
   "cell_type": "code",
   "execution_count": 1,
   "id": "21741d7c",
   "metadata": {},
   "outputs": [],
   "source": [
    "def nonrecursive_binary(el, lst):\n",
    "    start = 0\n",
    "    end = len(lst)\n",
    "    \n",
    "    while start <= end:\n",
    "        mid = (start + end) // 2\n",
    "        \n",
    "        if lst[mid] == el:\n",
    "            return mid\n",
    "        \n",
    "        if lst[mid] < el:\n",
    "            start = mid + 1\n",
    "        if lst[mid] > el:\n",
    "            end = mid - 1\n",
    "            \n",
    "    return -1"
   ]
  },
  {
   "cell_type": "code",
   "execution_count": null,
   "id": "0c747ec9",
   "metadata": {},
   "outputs": [],
   "source": []
  },
  {
   "cell_type": "code",
   "execution_count": 3,
   "id": "4bce69af",
   "metadata": {},
   "outputs": [
    {
     "name": "stdout",
     "output_type": "stream",
     "text": [
      "5\n"
     ]
    }
   ],
   "source": [
    "def main():\n",
    "    el = 6\n",
    "    lst = [1, 2, 3, 4, 5, 6, 7, 8, 9, 10]\n",
    "    print(nonrecursive_binary(el, lst))\n",
    "main()"
   ]
  },
  {
   "cell_type": "markdown",
   "id": "2a6bd42c",
   "metadata": {},
   "source": [
    "## Recursive"
   ]
  },
  {
   "cell_type": "code",
   "execution_count": 6,
   "id": "4317f6b1",
   "metadata": {},
   "outputs": [],
   "source": [
    "def recursive_binary(el, lst, start, end):\n",
    "    if start <= end:\n",
    "        mid = (start + end) // 2\n",
    "\n",
    "        if el == lst[mid]:\n",
    "            return mid\n",
    "\n",
    "        if lst[mid] > el:\n",
    "            return recursive_binary(el, lst, start, mid-1)\n",
    "        else:\n",
    "            return recursive_binary(el, lst, start + 1, end)\n",
    "    return -1"
   ]
  },
  {
   "cell_type": "code",
   "execution_count": 7,
   "id": "237df36d",
   "metadata": {},
   "outputs": [
    {
     "name": "stdout",
     "output_type": "stream",
     "text": [
      "5\n"
     ]
    }
   ],
   "source": [
    "def main():\n",
    "    el = 6\n",
    "    lst = [1, 2, 3, 4, 5, 6, 7, 8, 9, 10]\n",
    "    print(recursive_binary(el, lst, 0, len(lst)))\n",
    "main()"
   ]
  },
  {
   "cell_type": "markdown",
   "id": "ecdaf303",
   "metadata": {},
   "source": [
    "# Bubble Sort"
   ]
  },
  {
   "cell_type": "markdown",
   "id": "6ff8b386",
   "metadata": {},
   "source": [
    "## Non-recursive"
   ]
  },
  {
   "cell_type": "code",
   "execution_count": 9,
   "id": "427f092a",
   "metadata": {},
   "outputs": [
    {
     "name": "stdout",
     "output_type": "stream",
     "text": [
      "[0, 2, 4, 6, 9, 11, 69, 78, 420]\n"
     ]
    }
   ],
   "source": [
    "def bubble_sort(array):\n",
    "    sorted = False\n",
    "    \n",
    "    while not sorted:\n",
    "        sorted = True\n",
    "        \n",
    "        for i in range(1, len(array)):\n",
    "            if array[i-1] > array[i]:\n",
    "                array[i], array[i-1] = array[i-1], array[i]\n",
    "                sorted = False\n",
    "    return array\n",
    "\n",
    "print(bubble_sort([2, 0, 9, 6, 11, 78, 69, 4, 420]))"
   ]
  },
  {
   "cell_type": "markdown",
   "id": "9e5d0528",
   "metadata": {},
   "source": [
    "## Recursive"
   ]
  },
  {
   "cell_type": "code",
   "execution_count": 10,
   "id": "d17c3a3d",
   "metadata": {},
   "outputs": [
    {
     "name": "stdout",
     "output_type": "stream",
     "text": [
      "[0, 2, 4, 6, 9, 11, 69, 78, 420]\n"
     ]
    }
   ],
   "source": [
    "def recursive_bubble_sort(array):\n",
    "    count = 0\n",
    "    for i in range(1, len(array)):\n",
    "        if array[i-1] > array[i]:\n",
    "            array[i], array[i-1] = array[i-1], array[i]\n",
    "            count += 1\n",
    "    if count == 0:\n",
    "        return array\n",
    "    else:\n",
    "        return recursive_bubble_sort(array)\n",
    "    \n",
    "print(recursive_bubble_sort([2, 0, 9, 6, 11, 78, 69, 4, 420]))"
   ]
  },
  {
   "cell_type": "markdown",
   "id": "c62a3d2c",
   "metadata": {},
   "source": [
    "# Selection Sort"
   ]
  },
  {
   "cell_type": "markdown",
   "id": "a336bb87",
   "metadata": {},
   "source": [
    "## Non-recursive"
   ]
  },
  {
   "cell_type": "code",
   "execution_count": 19,
   "id": "bfaccac6",
   "metadata": {},
   "outputs": [
    {
     "name": "stdout",
     "output_type": "stream",
     "text": [
      "6 3\n",
      "[0, 2, 4, 6, 9, 11, 69, 78, 420]\n"
     ]
    }
   ],
   "source": [
    "def selection_sort(array):\n",
    "    for i in range(0, len(array)-1):\n",
    "        for j in range(i + 1, len(array)):\n",
    "            if array[i] > array[j]:\n",
    "                array[i],array[j] = array[j], array[i]\n",
    "    print(array[3], array.index(array[3]))\n",
    "    return array\n",
    "\n",
    "print(selection_sort([2, 0, 9, 6, 11, 78, 69, 4, 420]))"
   ]
  },
  {
   "cell_type": "code",
   "execution_count": 15,
   "id": "16d3730b",
   "metadata": {},
   "outputs": [
    {
     "name": "stdout",
     "output_type": "stream",
     "text": [
      "[0, 2, 4, 6, 9, 11, 69, 78, 420]\n"
     ]
    }
   ],
   "source": [
    "def selection_sort_2(array):\n",
    "    for i in range(0, len(array)-1):\n",
    "        idx = i\n",
    "        for j in range(i+1, len(array)):\n",
    "            if array[j] < array[idx]:\n",
    "                idx = j\n",
    "        array[i], array[idx] = array[idx], array[i]\n",
    "        \n",
    "    return array\n",
    "        \n",
    "print(selection_sort_2([2, 0, 9, 6, 11, 78, 69, 4, 420]))"
   ]
  },
  {
   "cell_type": "code",
   "execution_count": 20,
   "id": "f60b421a",
   "metadata": {},
   "outputs": [
    {
     "name": "stdout",
     "output_type": "stream",
     "text": [
      "[0, 2, 4, 6, 9, 11, 69, 78, 420]\n"
     ]
    }
   ],
   "source": [
    "def recursive_selection_sort(array):\n",
    "    counter = 0\n",
    "    for i in range(0, len(array)-1):\n",
    "        for j in range(i + 1, len(array)):\n",
    "            if array[j] < array[i]:\n",
    "                array[i], array[j] = array[j], array[i]\n",
    "                counter += 1\n",
    "    if counter == 0:\n",
    "        return array\n",
    "    else:\n",
    "        return recursive_selection_sort(array)\n",
    "    \n",
    "print(recursive_selection_sort([2, 0, 9, 6, 11, 78, 69, 4, 420]))"
   ]
  },
  {
   "cell_type": "markdown",
   "id": "dcad9c27",
   "metadata": {},
   "source": [
    "# Insertion Sort"
   ]
  },
  {
   "cell_type": "markdown",
   "id": "2ddf29ab",
   "metadata": {},
   "source": [
    "## Non-recursive"
   ]
  },
  {
   "cell_type": "code",
   "execution_count": 23,
   "id": "2cfee274",
   "metadata": {},
   "outputs": [
    {
     "name": "stdout",
     "output_type": "stream",
     "text": [
      "[0, 2, 4, 6, 9, 11, 69, 78, 420]\n"
     ]
    }
   ],
   "source": [
    "def insertion_sort(array):\n",
    "    for i in range(1, len(array)):\n",
    "        idx = i - 1\n",
    "        element = array[i]\n",
    "        \n",
    "        while idx >= 0 and element < array[idx]:\n",
    "            array[idx+1] = array[idx]\n",
    "            idx = idx - 1\n",
    "        array[idx + 1] = element \n",
    "    \n",
    "    return array\n",
    "\n",
    "print(insertion_sort([2, 0, 9, 6, 11, 78, 69, 4, 420]))"
   ]
  },
  {
   "cell_type": "code",
   "execution_count": null,
   "id": "a48ec1e7",
   "metadata": {},
   "outputs": [],
   "source": []
  },
  {
   "cell_type": "code",
   "execution_count": 24,
   "id": "28866cd4",
   "metadata": {},
   "outputs": [
    {
     "name": "stdout",
     "output_type": "stream",
     "text": [
      "[0, 2, 4, 6, 9, 11, 69, 78, 420]\n"
     ]
    }
   ],
   "source": [
    "def recursive_insertion_sort(array):\n",
    "    counter = 0\n",
    "    for i in range(1, len(array)):\n",
    "        idx = i - 1\n",
    "        element = array[i]\n",
    "        \n",
    "        while idx >= 0 and element < array[idx]:\n",
    "            array[idx+1] = array[idx]\n",
    "            idx = idx - 1\n",
    "            counter += 1\n",
    "        array[idx + 1] = element \n",
    "    \n",
    "    if counter == 0:\n",
    "        return array\n",
    "    else:\n",
    "        return recursive_insertion_sort(array)\n",
    "\n",
    "print(recursive_insertion_sort([2, 0, 9, 6, 11, 78, 69, 4, 420]))"
   ]
  },
  {
   "cell_type": "markdown",
   "id": "7ebdc91f",
   "metadata": {},
   "source": [
    "# Quick Sort"
   ]
  },
  {
   "cell_type": "markdown",
   "id": "e29b50da",
   "metadata": {},
   "source": [
    "## Recursive"
   ]
  },
  {
   "cell_type": "code",
   "execution_count": 33,
   "id": "63833c7e",
   "metadata": {},
   "outputs": [
    {
     "name": "stdout",
     "output_type": "stream",
     "text": [
      "Unsorted Array\n",
      "[1, 7, 4, 1, 10, 9, -2]\n",
      "Sorted Array in Ascending Order:\n",
      "[-2, 1, 1, 4, 7, 9, 10]\n"
     ]
    }
   ],
   "source": [
    "# Python program for implementation of Quicksort Sort\n",
    " \n",
    "# This implementation utilizes pivot as the last element in the nums list\n",
    "# It has a pointer to keep track of the elements smaller than the pivot\n",
    "# At the very end of partition() function, the pointer is swapped with the pivot\n",
    "# to come up with a \"sorted\" nums relative to the pivot\n",
    " \n",
    " \n",
    "# Function to find the partition position\n",
    "def partition(array, low, high):\n",
    " \n",
    "    # choose the rightmost element as pivot\n",
    "    pivot = array[high]\n",
    " \n",
    "    # pointer for greater element\n",
    "    i = low - 1\n",
    " \n",
    "    # traverse through all elements\n",
    "    # compare each element with pivot\n",
    "    for j in range(low, high):\n",
    "        if array[j] <= pivot:\n",
    " \n",
    "            # If element smaller than pivot is found\n",
    "            # swap it with the greater element pointed by i\n",
    "            i = i + 1\n",
    " \n",
    "            # Swapping element at i with element at j\n",
    "            (array[i], array[j]) = (array[j], array[i])\n",
    " \n",
    "    # Swap the pivot element with the greater element specified by i\n",
    "    (array[i + 1], array[high]) = (array[high], array[i + 1])\n",
    " \n",
    "    # Return the position from where partition is done\n",
    "    return i + 1\n",
    " \n",
    "# function to perform quicksort\n",
    " \n",
    " \n",
    "def quickSort(array, low, high):\n",
    "    if low < high:\n",
    " \n",
    "        # Find pivot element such that\n",
    "        # element smaller than pivot are on the left\n",
    "        # element greater than pivot are on the right\n",
    "        pi = partition(array, low, high)\n",
    " \n",
    "        # Recursive call on the left of pivot\n",
    "        quickSort(array, low, pi - 1)\n",
    " \n",
    "        # Recursive call on the right of pivot\n",
    "        quickSort(array, pi + 1, high)\n",
    " \n",
    " \n",
    "data = [1, 7, 4, 1, 10, 9, -2]\n",
    "print(\"Unsorted Array\")\n",
    "print(data)\n",
    " \n",
    "size = len(data)\n",
    " \n",
    "quickSort(data, 0, size - 1)\n",
    " \n",
    "print('Sorted Array in Ascending Order:')\n",
    "print(data)"
   ]
  },
  {
   "cell_type": "markdown",
   "id": "a707fb64",
   "metadata": {},
   "source": [
    "# Merge-Sort"
   ]
  },
  {
   "cell_type": "code",
   "execution_count": 37,
   "id": "8bea9bcf",
   "metadata": {},
   "outputs": [
    {
     "data": {
      "text/plain": [
       "[0, 2, 4, 6, 9, 11, 69, 78, 420]"
      ]
     },
     "execution_count": 37,
     "metadata": {},
     "output_type": "execute_result"
    }
   ],
   "source": [
    "def merge_sort(array):\n",
    "    if len(array) == 1:\n",
    "        return array\n",
    "    \n",
    "    mid = len(array) // 2\n",
    "    left = merge_sort(array[:mid])\n",
    "    right = merge_sort(array[mid:])\n",
    "    return merge(left, right)\n",
    "\n",
    "def merge(left, right):\n",
    "    l = []\n",
    "    i = 0\n",
    "    j = 0\n",
    "    while i < len(left) and j < len(right):\n",
    "        if left[i] < right[j]:\n",
    "            l.append(left[i])\n",
    "            i += 1\n",
    "        else:\n",
    "            l.append(right[j])\n",
    "            j += 1\n",
    "    \n",
    "    l += left[i:]\n",
    "    l += right[j:]\n",
    "    \n",
    "    return l\n",
    "\n",
    "merge_sort([2, 0, 9, 6, 11, 78, 69, 4, 420])"
   ]
  },
  {
   "cell_type": "code",
   "execution_count": 1,
   "id": "fe4350b7",
   "metadata": {},
   "outputs": [
    {
     "name": "stdout",
     "output_type": "stream",
     "text": [
      "2\n"
     ]
    }
   ],
   "source": [
    "print(4 >> 1)"
   ]
  },
  {
   "cell_type": "code",
   "execution_count": null,
   "id": "05d4b14d",
   "metadata": {},
   "outputs": [],
   "source": []
  }
 ],
 "metadata": {
  "kernelspec": {
   "display_name": "Python 3 (ipykernel)",
   "language": "python",
   "name": "python3"
  },
  "language_info": {
   "codemirror_mode": {
    "name": "ipython",
    "version": 3
   },
   "file_extension": ".py",
   "mimetype": "text/x-python",
   "name": "python",
   "nbconvert_exporter": "python",
   "pygments_lexer": "ipython3",
   "version": "3.9.7"
  }
 },
 "nbformat": 4,
 "nbformat_minor": 5
}
