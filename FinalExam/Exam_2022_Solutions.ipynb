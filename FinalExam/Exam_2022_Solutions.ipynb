{
 "cells": [
  {
   "cell_type": "markdown",
   "id": "d43f1f13",
   "metadata": {},
   "source": [
    "# Exam Practice 2022 - Solutions"
   ]
  },
  {
   "cell_type": "markdown",
   "id": "0e12749d",
   "metadata": {},
   "source": [
    "## Problem 1"
   ]
  },
  {
   "cell_type": "code",
   "execution_count": 1,
   "id": "df1ea68a",
   "metadata": {},
   "outputs": [
    {
     "ename": "SyntaxError",
     "evalue": "non-default argument follows default argument (346122125.py, line 2)",
     "output_type": "error",
     "traceback": [
      "\u001B[0;36m  File \u001B[0;32m\"/var/folders/y3/7t134x0x04xglfbbg5tf61nh0000gn/T/ipykernel_2001/346122125.py\"\u001B[0;36m, line \u001B[0;32m2\u001B[0m\n\u001B[0;31m    def f(x = 0, y):\u001B[0m\n\u001B[0m                  ^\u001B[0m\n\u001B[0;31mSyntaxError\u001B[0m\u001B[0;31m:\u001B[0m non-default argument follows default argument\n"
     ]
    }
   ],
   "source": [
    "#A\n",
    "def f(x = 0, y):\n",
    "    print(x, y)\n",
    "f(20, 22)"
   ]
  },
  {
   "cell_type": "code",
   "execution_count": 2,
   "id": "3515e18c",
   "metadata": {},
   "outputs": [
    {
     "ename": "TypeError",
     "evalue": "'tuple' object does not support item assignment",
     "output_type": "error",
     "traceback": [
      "\u001B[0;31m---------------------------------------------------------------------------\u001B[0m",
      "\u001B[0;31mTypeError\u001B[0m                                 Traceback (most recent call last)",
      "\u001B[0;32m/var/folders/y3/7t134x0x04xglfbbg5tf61nh0000gn/T/ipykernel_2001/3980467318.py\u001B[0m in \u001B[0;36m<module>\u001B[0;34m\u001B[0m\n\u001B[1;32m      3\u001B[0m \u001B[0mv\u001B[0m \u001B[0;34m=\u001B[0m \u001B[0;34m[\u001B[0m\u001B[0;36m2\u001B[0m\u001B[0;34m,\u001B[0m \u001B[0;36m3\u001B[0m\u001B[0;34m]\u001B[0m\u001B[0;34m\u001B[0m\u001B[0;34m\u001B[0m\u001B[0m\n\u001B[1;32m      4\u001B[0m \u001B[0;34m\u001B[0m\u001B[0m\n\u001B[0;32m----> 5\u001B[0;31m \u001B[0ml\u001B[0m\u001B[0;34m[\u001B[0m\u001B[0;36m0\u001B[0m\u001B[0;34m]\u001B[0m \u001B[0;34m=\u001B[0m \u001B[0;36m11\u001B[0m\u001B[0;34m\u001B[0m\u001B[0;34m\u001B[0m\u001B[0m\n\u001B[0m",
      "\u001B[0;31mTypeError\u001B[0m: 'tuple' object does not support item assignment"
     ]
    }
   ],
   "source": [
    "#B\n",
    "l = (1, 2)\n",
    "v = [2, 3]\n",
    "\n",
    "l[0] = 11"
   ]
  },
  {
   "cell_type": "code",
   "execution_count": 3,
   "id": "3c36be29",
   "metadata": {},
   "outputs": [
    {
     "name": "stdout",
     "output_type": "stream",
     "text": [
      "True\n"
     ]
    }
   ],
   "source": [
    "x = y = 0\n",
    "print(1 + 1 == 2)"
   ]
  },
  {
   "cell_type": "code",
   "execution_count": 4,
   "id": "f84bd76a",
   "metadata": {},
   "outputs": [
    {
     "ename": "SyntaxError",
     "evalue": "invalid syntax (2823994018.py, line 1)",
     "output_type": "error",
     "traceback": [
      "\u001B[0;36m  File \u001B[0;32m\"/var/folders/y3/7t134x0x04xglfbbg5tf61nh0000gn/T/ipykernel_2001/2823994018.py\"\u001B[0;36m, line \u001B[0;32m1\u001B[0m\n\u001B[0;31m    const x = 0\u001B[0m\n\u001B[0m          ^\u001B[0m\n\u001B[0;31mSyntaxError\u001B[0m\u001B[0;31m:\u001B[0m invalid syntax\n"
     ]
    }
   ],
   "source": [
    "const x = 0"
   ]
  },
  {
   "cell_type": "code",
   "execution_count": 8,
   "id": "4261b078",
   "metadata": {},
   "outputs": [
    {
     "ename": "IndentationError",
     "evalue": "unexpected indent (701363761.py, line 5)",
     "output_type": "error",
     "traceback": [
      "\u001B[0;36m  File \u001B[0;32m\"/var/folders/y3/7t134x0x04xglfbbg5tf61nh0000gn/T/ipykernel_2001/701363761.py\"\u001B[0;36m, line \u001B[0;32m5\u001B[0m\n\u001B[0;31m    def f(self):\u001B[0m\n\u001B[0m    ^\u001B[0m\n\u001B[0;31mIndentationError\u001B[0m\u001B[0;31m:\u001B[0m unexpected indent\n"
     ]
    }
   ],
   "source": [
    "class A:\n",
    "    pass\n",
    "\n",
    "class A:B\n",
    "    def f(self):\n",
    "        print(1)"
   ]
  },
  {
   "cell_type": "markdown",
   "id": "16596262",
   "metadata": {},
   "source": [
    "## Problem 2"
   ]
  },
  {
   "cell_type": "markdown",
   "id": "ee885cb6",
   "metadata": {},
   "source": [
    "A. Wie kann man zwei Algorithmen vergleichen? Wie ist die Laufzeit eines Algorithmus definiert und was ist der Link\n",
    "mit der asymptotischen Komplexität? Klären Sie mit Theorie und Beispielen ab!\n",
    "\n",
    "**Antwort**: Zur Vergleich von zwei Algorithmen kann man verschiedene Faktoren wie Geschwindigkeit, Speichernutzung und Effizienz betrachten.\n",
    "\n",
    "Die Laufzeit eines Algorithmus wird als die Zeit definiert, die er benötigt, um seine Aufgabe abzuschließen. Die Laufzeit wird normalerweise in Bezug auf die Anzahl der grundlegenden Operationen gemessen, die der Algorithmus ausführt, wie z.B. Additionen, Multiplikationen usw.\n",
    "\n",
    "Die asymptotische Komplexität bezieht sich auf das Verhalten der Laufzeit eines Algorithmus, wenn die Größe der Eingabe unendlich wird. Es wird normalerweise mit big O-Notation ausgedrückt, die eine obere Schranke für den Wachstumsrate der Laufzeit liefert. Beispielsweise bedeutet eine Zeitkomplexität von O(n), dass die Laufzeit linear mit der Größe der Eingabe wächst. Eine Zeitkomplexität von O(n^2) bedeutet, dass die Laufzeit quadratisch mit der Größe der Eingabe wächst.\n",
    "\n",
    "Hier ist ein Beispiel, um diese Konzepte zu veranschaulichen:\n",
    "\n",
    "Angenommen Sie haben zwei Algorithmen, A und B, zum Sortieren eines Zahlenarrays. Algorithmus A hat eine Laufzeit von O(n^2) und Algorithmus B hat eine Laufzeit von O(n log n). Für kleine Eingaben können die tatsächlichen Laufzeiten beider Algorithmen ähnlich sein. Je größer jedoch die Größe der Eingabe wird, desto schneller wird Algorithmus B, da seine Wachstumsrate geringer ist. Beispielsweise bei einer Eingabegröße von 10^6 würde Algorithmus A eine Laufzeit von 10^12 Operationen haben, während Algorithmus B eine Laufzeit von nur 20 * 10^6 Operationen hätte.\n",
    "\n",
    "\n",
    "\n",
    "B. Was sind List Comprehensions in Python? Wofür nutzt man solche Ausdrücke? Geben Sie zwei konkrete\n",
    "Codebeispiele an.\n",
    "\n",
    "**Antwort**: Mit Hilfe von List Comprehensions can man neue Listen bilden. Man kann map, filter or reduce innerhalb einer list comprehension benutzen"
   ]
  },
  {
   "cell_type": "code",
   "execution_count": 10,
   "id": "34c2fe47",
   "metadata": {},
   "outputs": [
    {
     "name": "stdout",
     "output_type": "stream",
     "text": [
      "[2, 4, 6, 8]\n",
      "[1, 4, 9, 16, 25, 36, 49, 64, 81]\n"
     ]
    }
   ],
   "source": [
    "#Beispiel B\n",
    "\n",
    "#filter even numberes from a list\n",
    "numbers = [1, 2, 3, 4, 5, 6, 7, 8, 9]\n",
    "even_numbers = [i for i in numbers if i % 2 == 0]\n",
    "\n",
    "#compute the square numbers\n",
    "square_numbers = [i*i for i in numbers]\n",
    "\n",
    "print(even_numbers)\n",
    "print(square_numbers)"
   ]
  },
  {
   "cell_type": "markdown",
   "id": "89160706",
   "metadata": {},
   "source": [
    "## Problem 3"
   ]
  },
  {
   "cell_type": "markdown",
   "id": "0c5a1347",
   "metadata": {},
   "source": [
    "A. Implementieren Sie eine rekursive Funktion, die einen String mit    Klammern als Argument bekommt. Diese Funktion\n",
    "soll nur den Text zwischen den Klammern zurückgeben. \n",
    "\"22a3(abcd)Xy2Z\" → \"(abc)\".\n",
    "\n",
    "B. Gegeben sei eine Matrix repräsentiert als eine Liste von Listen. Implementieren Sie eine Funktion matrix_sum(), die\n",
    "mit der reduce-Funktion die Summe der Matrix berechnet. "
   ]
  },
  {
   "cell_type": "code",
   "execution_count": 20,
   "id": "2c84c6d6",
   "metadata": {},
   "outputs": [
    {
     "name": "stdout",
     "output_type": "stream",
     "text": [
      "abcd\n"
     ]
    }
   ],
   "source": [
    "def extract_text_between_brackets(string):\n",
    "    def helper(string, i):\n",
    "        if i >= len(string):\n",
    "            return \"\"\n",
    "        if string[i] == '(':\n",
    "            start = i\n",
    "            end = start + 1\n",
    "            count = 1\n",
    "            while count != 0:\n",
    "                if string[end] == '(':\n",
    "                    count += 1\n",
    "                elif string[end] == ')':\n",
    "                    count -= 1\n",
    "                end += 1\n",
    "            return string[start+1:end-1] + helper(string, end)\n",
    "        else:\n",
    "            return helper(string, i+1)\n",
    "    return helper(string, 0)\n",
    "\n",
    "print(extract_text_between_brackets(\"22a3(abcd)Xy2Z\"))"
   ]
  },
  {
   "cell_type": "code",
   "execution_count": 14,
   "id": "aa685e35",
   "metadata": {},
   "outputs": [
    {
     "name": "stdout",
     "output_type": "stream",
     "text": [
      "45\n"
     ]
    }
   ],
   "source": [
    "#B\n",
    "from functools import reduce\n",
    "matrix = [[1, 2, 3], [4, 5, 6], [7, 8, 9]]\n",
    "\n",
    "def matrix_sum(matrix):\n",
    "    sum_of_list = reduce(lambda x, y: x + sum(y), matrix, 0)\n",
    "    return sum_of_list\n",
    "print(matrix_sum(matrix))"
   ]
  },
  {
   "cell_type": "markdown",
   "id": "f30f179d",
   "metadata": {},
   "source": [
    "## Problem 4"
   ]
  },
  {
   "cell_type": "markdown",
   "id": "eda12e8c",
   "metadata": {},
   "source": [
    "A. Implementieren Sie eine Klasse Square. Die Klasse repräsentiert ein Quadrat und hat\n",
    "- ein Attribut side für die Seite\n",
    "- und zwei Attribute x,y für die obere linke Ecke.\n",
    "Implementieren Sie die __init__-Methode mit drei Argumenten so, dass der Argument side bei der Erzeugung fehlen\n",
    "kann. \n",
    "\n",
    "B. Implementieren Sie eine Klasse Rectangle mit\n",
    "- zwei Attributen: length und width für die Länge und Breite\n",
    "- und zwei Attribute x,y für die obere linke Ecke.\n",
    "Implementieren Sie auch die __init__-Methode. \n",
    "\n",
    "C. Implementieren Sie eine Funktion contains() die eine Liste von Quadraten und ein Rechteck als Argumente bekommt.\n",
    "Die Methode gibt True zurück, nur wenn das Rechteck alle Quadrate enthält. "
   ]
  },
  {
   "cell_type": "code",
   "execution_count": 18,
   "id": "15cf7015",
   "metadata": {},
   "outputs": [],
   "source": [
    "#A\n",
    "class Square:\n",
    "    def __init__(self, side = 0, x = 0, y = 0):\n",
    "        self.side = side\n",
    "        self.x = x\n",
    "        self.y = y\n",
    "        \n",
    "#B\n",
    "class Rectangle:\n",
    "    def __init__(self, length, width, x, y):\n",
    "        self.length = length\n",
    "        self.width = width\n",
    "        self.x = x\n",
    "        self.y = y\n",
    "        \n",
    "def contains(squares, rectangle):\n",
    "    for square in squares:\n",
    "        if square.x < rectangle.x or square.y < rectangle.y or square.x + square.side > rectangle.x + rectangle.length or square.y + square.side > rectangle.y + rectangle.width:\n",
    "            return False\n",
    "        return True"
   ]
  },
  {
   "cell_type": "code",
   "execution_count": 19,
   "id": "bd5c2c6e",
   "metadata": {},
   "outputs": [
    {
     "name": "stdout",
     "output_type": "stream",
     "text": [
      "True\n"
     ]
    }
   ],
   "source": [
    "squares = [Square(2, 0, 0), Square(2, 1, 1)]\n",
    "rectangle = Rectangle(4, 4, 0, 0)\n",
    "\n",
    "result = contains(squares, rectangle)\n",
    "print(result) # True"
   ]
  },
  {
   "cell_type": "code",
   "execution_count": null,
   "id": "bae64143",
   "metadata": {},
   "outputs": [],
   "source": []
  }
 ],
 "metadata": {
  "kernelspec": {
   "display_name": "Python 3 (ipykernel)",
   "language": "python",
   "name": "python3"
  },
  "language_info": {
   "codemirror_mode": {
    "name": "ipython",
    "version": 3
   },
   "file_extension": ".py",
   "mimetype": "text/x-python",
   "name": "python",
   "nbconvert_exporter": "python",
   "pygments_lexer": "ipython3",
   "version": "3.9.7"
  }
 },
 "nbformat": 4,
 "nbformat_minor": 5
}
