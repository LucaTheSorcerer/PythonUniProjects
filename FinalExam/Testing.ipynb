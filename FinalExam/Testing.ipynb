{
 "cells": [
  {
   "cell_type": "code",
   "execution_count": 1,
   "id": "11112f8e",
   "metadata": {},
   "outputs": [],
   "source": [
    "def isPrime(nr):\n",
    "    if nr <= 0:\n",
    "        raise ValueError(\"Nr needs to be positive\")\n",
    "    if nr == 1:\n",
    "        return False\n",
    "    if nr <= 3:\n",
    "        return True\n",
    "    for i in range(2, nr):\n",
    "        if nr % i == 0:\n",
    "            return False\n",
    "    return True"
   ]
  },
  {
   "cell_type": "code",
   "execution_count": 7,
   "id": "b7e4816c",
   "metadata": {},
   "outputs": [],
   "source": [
    "def blackBoxPrimeTest():\n",
    "    assert (isPrime(5) == True)\n",
    "    assert (isPrime(9) == False)\n",
    "    \n",
    "    try:\n",
    "        isPrime(-2)\n",
    "        assert False\n",
    "    except ValueError:\n",
    "        assert True\n",
    "    \n",
    "    try:\n",
    "        isPrime(0)\n",
    "        assert False\n",
    "    except ValueError:\n",
    "        assert True"
   ]
  },
  {
   "cell_type": "code",
   "execution_count": 8,
   "id": "5de7faf4",
   "metadata": {},
   "outputs": [],
   "source": [
    "def whiteBoxPrimeTest():\n",
    "    assert (isPrime(1) == False)\n",
    "    assert (isPrime(3) == True)\n",
    "    assert (isPrime(11) == True)\n",
    "    assert (isPrime(9) == False)\n",
    "    \n",
    "    try:\n",
    "        isPrime(-2)\n",
    "        assert False\n",
    "    except ValueError:\n",
    "        assert True\n",
    "    try:\n",
    "        isPrime(0)\n",
    "        assert False\n",
    "    except ValueError:\n",
    "        assert True"
   ]
  },
  {
   "cell_type": "code",
   "execution_count": 9,
   "id": "b6a4527f",
   "metadata": {},
   "outputs": [],
   "source": [
    "def main():\n",
    "    blackBoxPrimeTest()\n",
    "    whiteBoxPrimeTest()\n",
    "main()"
   ]
  },
  {
   "cell_type": "code",
   "execution_count": null,
   "id": "8e9b8c5f",
   "metadata": {},
   "outputs": [],
   "source": []
  }
 ],
 "metadata": {
  "kernelspec": {
   "display_name": "Python 3 (ipykernel)",
   "language": "python",
   "name": "python3"
  },
  "language_info": {
   "codemirror_mode": {
    "name": "ipython",
    "version": 3
   },
   "file_extension": ".py",
   "mimetype": "text/x-python",
   "name": "python",
   "nbconvert_exporter": "python",
   "pygments_lexer": "ipython3",
   "version": "3.9.7"
  }
 },
 "nbformat": 4,
 "nbformat_minor": 5
}
