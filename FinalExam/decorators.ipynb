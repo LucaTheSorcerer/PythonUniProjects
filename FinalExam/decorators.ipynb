{
 "cells": [
  {
   "cell_type": "markdown",
   "id": "e364792d",
   "metadata": {},
   "source": [
    "# Decorators\n",
    "\n",
    "Adds functionality to an existing function with decorators. Metaprogramming"
   ]
  },
  {
   "cell_type": "markdown",
   "id": "c4de7c64",
   "metadata": {},
   "source": [
    "## Example 1"
   ]
  },
  {
   "cell_type": "code",
   "execution_count": 1,
   "id": "d774ac04",
   "metadata": {},
   "outputs": [
    {
     "name": "stdout",
     "output_type": "stream",
     "text": [
      "Hello \n",
      "Alice\n"
     ]
    }
   ],
   "source": [
    "def hello(func):\n",
    "    def inner():\n",
    "        print(\"Hello \")\n",
    "        func()\n",
    "    return inner\n",
    "\n",
    "def name():\n",
    "    print(\"Alice\")\n",
    "    \n",
    "obj = hello(name)\n",
    "obj()"
   ]
  },
  {
   "cell_type": "markdown",
   "id": "3e451d42",
   "metadata": {},
   "source": [
    "## Example 2"
   ]
  },
  {
   "cell_type": "code",
   "execution_count": 5,
   "id": "50b3743c",
   "metadata": {},
   "outputs": [
    {
     "name": "stdout",
     "output_type": "stream",
     "text": [
      "The current user is: Alice\n"
     ]
    }
   ],
   "source": [
    "def who():\n",
    "    print(\"Alice\")\n",
    "    \n",
    "def display(func):\n",
    "    def inner():\n",
    "        print(\"The current user is: \", end=\"\")\n",
    "        func()\n",
    "    return inner\n",
    "\n",
    "myobj = display(who)\n",
    "myobj()"
   ]
  },
  {
   "cell_type": "markdown",
   "id": "374ae0e9",
   "metadata": {},
   "source": [
    "### Syntactic sugar"
   ]
  },
  {
   "cell_type": "code",
   "execution_count": 7,
   "id": "63051df0",
   "metadata": {},
   "outputs": [
    {
     "name": "stdout",
     "output_type": "stream",
     "text": [
      "Hello \n",
      "Alice\n"
     ]
    }
   ],
   "source": [
    "@hello\n",
    "def name():\n",
    "    print(\"Alice\")\n",
    "name()"
   ]
  },
  {
   "cell_type": "markdown",
   "id": "19ff762a",
   "metadata": {},
   "source": [
    "## Example 3"
   ]
  },
  {
   "cell_type": "code",
   "execution_count": 8,
   "id": "cf4073b5",
   "metadata": {},
   "outputs": [
    {
     "name": "stdout",
     "output_type": "stream",
     "text": [
      "5 + 3 is 8\n"
     ]
    }
   ],
   "source": [
    "def pretty_sumab(func):\n",
    "    def inner(a, b):\n",
    "        print(f\"{a} + {b} is \", end = \"\")\n",
    "        return func(a, b)\n",
    "    return inner\n",
    "\n",
    "@pretty_sumab\n",
    "def sumab(a, b):\n",
    "    summed = a + b\n",
    "    print(summed)\n",
    "    \n",
    "sumab(5, 3)"
   ]
  },
  {
   "cell_type": "markdown",
   "id": "e8d01289",
   "metadata": {},
   "source": [
    "## Example 4"
   ]
  },
  {
   "cell_type": "code",
   "execution_count": 14,
   "id": "c566e485",
   "metadata": {},
   "outputs": [
    {
     "name": "stdout",
     "output_type": "stream",
     "text": [
      "Function took 2.0015501976013184 seconds to execute\n"
     ]
    }
   ],
   "source": [
    "import time\n",
    "\n",
    "def measure_time(func):\n",
    "    def wrapper(*arg, **kwargs):\n",
    "        t = time.time()\n",
    "        res = func(*arg)\n",
    "        print(f\"Function took {time.time()-t} seconds to execute\")\n",
    "        return res\n",
    "    return wrapper\n",
    "\n",
    "@measure_time\n",
    "def myFunction(n):\n",
    "    time.sleep(n)\n",
    "    \n",
    "myFunction(2)"
   ]
  },
  {
   "cell_type": "code",
   "execution_count": 10,
   "id": "6affe94b",
   "metadata": {},
   "outputs": [
    {
     "name": "stdout",
     "output_type": "stream",
     "text": [
      "cf took 0.2645142078399658 seconds to execute...\n"
     ]
    }
   ],
   "source": [
    "from functools import wraps\n",
    "from time import time\n",
    "\n",
    "\n",
    "def time_it(f):\n",
    "    @wraps(f)\n",
    "    def wrapper(*args, **kwargs):\n",
    "        s = time()\n",
    "        f(*args, **kwargs)\n",
    "        e = time()\n",
    "\n",
    "        print(f'{f.__name__} took {e-s} seconds to execute...')\n",
    "    return wrapper\n",
    "\n",
    "\n",
    "@time_it\n",
    "def cf(v):\n",
    "    for i in range(v):\n",
    "        j = 10\n",
    "\n",
    "cf(10000000)"
   ]
  },
  {
   "cell_type": "markdown",
   "id": "f1cb15cf",
   "metadata": {},
   "source": [
    "# Example 5"
   ]
  },
  {
   "cell_type": "code",
   "execution_count": 1,
   "id": "668d62dd",
   "metadata": {},
   "outputs": [],
   "source": [
    "def decorator(f):\n",
    "    def wrapper():\n",
    "        print(\"func() is being called...\")\n",
    "        f()\n",
    "    \n",
    "    return wrapper"
   ]
  },
  {
   "cell_type": "code",
   "execution_count": 2,
   "id": "1fa26964",
   "metadata": {},
   "outputs": [],
   "source": [
    "def hello():\n",
    "    print(\"hello world\")"
   ]
  },
  {
   "cell_type": "code",
   "execution_count": 3,
   "id": "c1004aad",
   "metadata": {},
   "outputs": [],
   "source": [
    "decorated_hello = decorator(hello)"
   ]
  },
  {
   "cell_type": "code",
   "execution_count": 4,
   "id": "66f44fc7",
   "metadata": {},
   "outputs": [
    {
     "name": "stdout",
     "output_type": "stream",
     "text": [
      "func() is being called...\n",
      "hello world\n"
     ]
    }
   ],
   "source": [
    "decorated_hello()"
   ]
  },
  {
   "cell_type": "code",
   "execution_count": 5,
   "id": "c0919f03",
   "metadata": {},
   "outputs": [],
   "source": [
    "@decorator\n",
    "def hello():\n",
    "    print(\"Hack the world\")"
   ]
  },
  {
   "cell_type": "code",
   "execution_count": 6,
   "id": "64c3c44c",
   "metadata": {},
   "outputs": [
    {
     "name": "stdout",
     "output_type": "stream",
     "text": [
      "func() is being called...\n",
      "Hack the world\n"
     ]
    }
   ],
   "source": [
    "hello()"
   ]
  },
  {
   "cell_type": "markdown",
   "id": "7b17981b",
   "metadata": {},
   "source": [
    "## Example 6 - Decorator with Parameters"
   ]
  },
  {
   "cell_type": "code",
   "execution_count": 13,
   "id": "37224f98",
   "metadata": {},
   "outputs": [],
   "source": [
    "def total_price(f):\n",
    "    def wrapper(*args, **kwargs):\n",
    "        return 10 + f(*args, **kwargs)\n",
    "    return wrapper"
   ]
  },
  {
   "cell_type": "code",
   "execution_count": 14,
   "id": "140626a0",
   "metadata": {},
   "outputs": [],
   "source": [
    "@total_price\n",
    "def price(tax):\n",
    "    return tax"
   ]
  },
  {
   "cell_type": "code",
   "execution_count": 15,
   "id": "b9d3a265",
   "metadata": {},
   "outputs": [
    {
     "name": "stdout",
     "output_type": "stream",
     "text": [
      "110\n"
     ]
    }
   ],
   "source": [
    "print(price(100))"
   ]
  },
  {
   "cell_type": "code",
   "execution_count": 16,
   "id": "7f975dfd",
   "metadata": {},
   "outputs": [
    {
     "name": "stdout",
     "output_type": "stream",
     "text": [
      "wrapper\n"
     ]
    }
   ],
   "source": [
    "print(price.__name__)"
   ]
  },
  {
   "cell_type": "markdown",
   "id": "08bd8e35",
   "metadata": {},
   "source": [
    "## functools.wrapps(f) preserves the identity of the decorated function"
   ]
  },
  {
   "cell_type": "code",
   "execution_count": 20,
   "id": "ed3051b0",
   "metadata": {},
   "outputs": [],
   "source": [
    "from functools import wraps\n",
    "\n",
    "def total_price(f):\n",
    "    @wraps(f)\n",
    "    def wrapper(*args, **kwargs):\n",
    "        return 10 + f(*args, **kwargs)\n",
    "    return wrapper"
   ]
  },
  {
   "cell_type": "code",
   "execution_count": 21,
   "id": "7a3fa62f",
   "metadata": {},
   "outputs": [],
   "source": [
    "@total_price\n",
    "def price(tax):\n",
    "    return tax"
   ]
  },
  {
   "cell_type": "code",
   "execution_count": 22,
   "id": "c6a8bfd4",
   "metadata": {},
   "outputs": [
    {
     "name": "stdout",
     "output_type": "stream",
     "text": [
      "price\n"
     ]
    }
   ],
   "source": [
    "print(price.__name__)"
   ]
  },
  {
   "cell_type": "markdown",
   "id": "e0cb9ddc",
   "metadata": {},
   "source": [
    "## Decorators for Classes"
   ]
  },
  {
   "cell_type": "code",
   "execution_count": 25,
   "id": "eeec9bc2",
   "metadata": {},
   "outputs": [],
   "source": [
    "import functools\n",
    "\n",
    "def logger(f):\n",
    "    @functools.wraps(f)\n",
    "    def wrapper(*args, **kwargs):\n",
    "        print(f\"{f.__name__} is being called...\")\n",
    "        f(*args, **kwargs)\n",
    "    \n",
    "    return wrapper"
   ]
  },
  {
   "cell_type": "code",
   "execution_count": 26,
   "id": "5d8fe9c9",
   "metadata": {},
   "outputs": [],
   "source": [
    "class T:\n",
    "    @logger\n",
    "    def f(self):\n",
    "        print(\"T::f()\")\n",
    "        \n",
    "    def g(self):\n",
    "        print(\"T::g()\")"
   ]
  },
  {
   "cell_type": "code",
   "execution_count": 27,
   "id": "8bf9e29a",
   "metadata": {},
   "outputs": [],
   "source": [
    "t = T()"
   ]
  },
  {
   "cell_type": "code",
   "execution_count": 28,
   "id": "e42ff62e",
   "metadata": {},
   "outputs": [
    {
     "name": "stdout",
     "output_type": "stream",
     "text": [
      "f is being called...\n",
      "T::f()\n",
      "T::g()\n"
     ]
    }
   ],
   "source": [
    "t.f()\n",
    "t.g()"
   ]
  },
  {
   "cell_type": "markdown",
   "id": "de3fe7fe",
   "metadata": {},
   "source": [
    "## Example 7"
   ]
  },
  {
   "cell_type": "code",
   "execution_count": 29,
   "id": "261e2352",
   "metadata": {},
   "outputs": [],
   "source": [
    "def greedy(times):\n",
    "    def deco(fun):\n",
    "        def wrap(*args):\n",
    "            for i in range(times):\n",
    "                fun(*args)\n",
    "        return wrap\n",
    "    return deco"
   ]
  },
  {
   "cell_type": "code",
   "execution_count": 30,
   "id": "4c486236",
   "metadata": {},
   "outputs": [],
   "source": [
    "@greedy(2)\n",
    "def eat(name):\n",
    "    print(f\"{name} is eating...\")"
   ]
  },
  {
   "cell_type": "code",
   "execution_count": 31,
   "id": "7f0380bc",
   "metadata": {},
   "outputs": [
    {
     "name": "stdout",
     "output_type": "stream",
     "text": [
      "bob is eating...\n",
      "bob is eating...\n"
     ]
    }
   ],
   "source": [
    "eat('bob')"
   ]
  },
  {
   "cell_type": "code",
   "execution_count": null,
   "id": "8e317dea",
   "metadata": {},
   "outputs": [],
   "source": []
  }
 ],
 "metadata": {
  "kernelspec": {
   "display_name": "Python 3 (ipykernel)",
   "language": "python",
   "name": "python3"
  },
  "language_info": {
   "codemirror_mode": {
    "name": "ipython",
    "version": 3
   },
   "file_extension": ".py",
   "mimetype": "text/x-python",
   "name": "python",
   "nbconvert_exporter": "python",
   "pygments_lexer": "ipython3",
   "version": "3.9.7"
  }
 },
 "nbformat": 4,
 "nbformat_minor": 5
}
