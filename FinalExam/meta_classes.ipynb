{
 "cells": [
  {
   "cell_type": "markdown",
   "id": "6ae8b166",
   "metadata": {},
   "source": [
    "# Metaprogramming - Metaclasses\n",
    "\n",
    "The term metaprogramming refers to the potential for a progrram to have knowledge of or manipulate itself. Python supports a form of metaprogramming for classes called metaclasses"
   ]
  },
  {
   "cell_type": "markdown",
   "id": "4a7f4017",
   "metadata": {},
   "source": [
    "## Example 1"
   ]
  },
  {
   "cell_type": "code",
   "execution_count": 1,
   "id": "2357cdaa",
   "metadata": {},
   "outputs": [],
   "source": [
    "Foo = type('Foo', (), {})\n",
    "\n",
    "x = Foo()"
   ]
  },
  {
   "cell_type": "code",
   "execution_count": 2,
   "id": "2a772d90",
   "metadata": {},
   "outputs": [
    {
     "data": {
      "text/plain": [
       "<__main__.Foo at 0x7fbed03157c0>"
      ]
     },
     "execution_count": 2,
     "metadata": {},
     "output_type": "execute_result"
    }
   ],
   "source": [
    "x"
   ]
  },
  {
   "cell_type": "code",
   "execution_count": 3,
   "id": "f07a012b",
   "metadata": {},
   "outputs": [],
   "source": [
    "class Foo:\n",
    "    pass\n",
    "\n",
    "x = Foo()"
   ]
  },
  {
   "cell_type": "code",
   "execution_count": 4,
   "id": "08c0622e",
   "metadata": {},
   "outputs": [
    {
     "data": {
      "text/plain": [
       "<__main__.Foo at 0x7fbed0349790>"
      ]
     },
     "execution_count": 4,
     "metadata": {},
     "output_type": "execute_result"
    }
   ],
   "source": [
    "x"
   ]
  },
  {
   "cell_type": "markdown",
   "id": "68961887",
   "metadata": {},
   "source": [
    "## Example 2"
   ]
  },
  {
   "cell_type": "code",
   "execution_count": 11,
   "id": "a097df6a",
   "metadata": {},
   "outputs": [],
   "source": [
    "Bar = type('Bar', (Foo,), dict(attr=100))\n",
    "x = Bar()"
   ]
  },
  {
   "cell_type": "code",
   "execution_count": 12,
   "id": "e2e8f887",
   "metadata": {},
   "outputs": [
    {
     "data": {
      "text/plain": [
       "100"
      ]
     },
     "execution_count": 12,
     "metadata": {},
     "output_type": "execute_result"
    }
   ],
   "source": [
    "x.attr"
   ]
  },
  {
   "cell_type": "code",
   "execution_count": 13,
   "id": "1e917409",
   "metadata": {},
   "outputs": [
    {
     "data": {
      "text/plain": [
       "__main__.Bar"
      ]
     },
     "execution_count": 13,
     "metadata": {},
     "output_type": "execute_result"
    }
   ],
   "source": [
    "x.__class__"
   ]
  },
  {
   "cell_type": "code",
   "execution_count": 14,
   "id": "ad4c2d55",
   "metadata": {},
   "outputs": [
    {
     "data": {
      "text/plain": [
       "(__main__.Foo,)"
      ]
     },
     "execution_count": 14,
     "metadata": {},
     "output_type": "execute_result"
    }
   ],
   "source": [
    "x.__class__.__bases__"
   ]
  },
  {
   "cell_type": "markdown",
   "id": "31fc8ae5",
   "metadata": {},
   "source": [
    "## Example 3"
   ]
  },
  {
   "cell_type": "code",
   "execution_count": 16,
   "id": "cce22ddb",
   "metadata": {},
   "outputs": [],
   "source": [
    "Foo = type('Foo',\n",
    "          (),\n",
    "          {\n",
    "              'attr':100,\n",
    "              'attr_val': lambda x: x.attr\n",
    "          }\n",
    ")\n",
    "\n",
    "x = Foo()"
   ]
  },
  {
   "cell_type": "code",
   "execution_count": 19,
   "id": "ec3d934e",
   "metadata": {},
   "outputs": [
    {
     "data": {
      "text/plain": [
       "100"
      ]
     },
     "execution_count": 19,
     "metadata": {},
     "output_type": "execute_result"
    }
   ],
   "source": [
    "x.attr"
   ]
  },
  {
   "cell_type": "code",
   "execution_count": 20,
   "id": "67f8c636",
   "metadata": {},
   "outputs": [
    {
     "data": {
      "text/plain": [
       "100"
      ]
     },
     "execution_count": 20,
     "metadata": {},
     "output_type": "execute_result"
    }
   ],
   "source": [
    "x.attr_val()"
   ]
  },
  {
   "cell_type": "markdown",
   "id": "fd538373",
   "metadata": {},
   "source": [
    "## Example 4"
   ]
  },
  {
   "cell_type": "code",
   "execution_count": 23,
   "id": "77424019",
   "metadata": {},
   "outputs": [],
   "source": [
    "def f(obj):\n",
    "    print(\"attr = \", obj.attr)\n",
    "    \n",
    "Foo = type('Foo',\n",
    "          (),\n",
    "          {\n",
    "              'attr': 100,\n",
    "              'attr_value':f\n",
    "          })\n",
    "x = Foo()\n"
   ]
  },
  {
   "cell_type": "code",
   "execution_count": 24,
   "id": "65cbec82",
   "metadata": {},
   "outputs": [
    {
     "data": {
      "text/plain": [
       "100"
      ]
     },
     "execution_count": 24,
     "metadata": {},
     "output_type": "execute_result"
    }
   ],
   "source": [
    "x.attr"
   ]
  },
  {
   "cell_type": "code",
   "execution_count": 25,
   "id": "8fb7a61b",
   "metadata": {},
   "outputs": [
    {
     "name": "stdout",
     "output_type": "stream",
     "text": [
      "attr =  100\n"
     ]
    }
   ],
   "source": [
    "x.attr_value()"
   ]
  },
  {
   "cell_type": "markdown",
   "id": "9e2c50c2",
   "metadata": {},
   "source": [
    "## Example 5 - custom metaclasses"
   ]
  },
  {
   "cell_type": "code",
   "execution_count": 26,
   "id": "b8dd5d28",
   "metadata": {},
   "outputs": [],
   "source": [
    "def new(cls):\n",
    "    x = object.__new__(cls)\n",
    "    x.attr = 100\n",
    "    return x"
   ]
  },
  {
   "cell_type": "code",
   "execution_count": 27,
   "id": "c378cb94",
   "metadata": {},
   "outputs": [],
   "source": [
    "Foo.__new__ = new"
   ]
  },
  {
   "cell_type": "code",
   "execution_count": 28,
   "id": "9fe662fb",
   "metadata": {},
   "outputs": [],
   "source": [
    "f = Foo()"
   ]
  },
  {
   "cell_type": "code",
   "execution_count": 29,
   "id": "f79829d2",
   "metadata": {},
   "outputs": [
    {
     "data": {
      "text/plain": [
       "100"
      ]
     },
     "execution_count": 29,
     "metadata": {},
     "output_type": "execute_result"
    }
   ],
   "source": [
    "f.attr"
   ]
  },
  {
   "cell_type": "code",
   "execution_count": 30,
   "id": "af3feed1",
   "metadata": {},
   "outputs": [
    {
     "data": {
      "text/plain": [
       "100"
      ]
     },
     "execution_count": 30,
     "metadata": {},
     "output_type": "execute_result"
    }
   ],
   "source": [
    "g = Foo()\n",
    "g.attr"
   ]
  },
  {
   "cell_type": "markdown",
   "id": "6e67f451",
   "metadata": {},
   "source": [
    "# Example 6 - Logger"
   ]
  },
  {
   "cell_type": "code",
   "execution_count": 2,
   "id": "4973d659",
   "metadata": {},
   "outputs": [],
   "source": [
    "class BadLogger(type):\n",
    "    def __new__(metacls, cls, bases, classdict):\n",
    "        print(f\"classname: {cls}\")\n",
    "        print(f\"baseclasses: {bases}\")\n",
    "        print(f\"classdict: {classdict}\")\n",
    "    \n",
    "        return super().__new__(metacls, cls, bases, classdict)"
   ]
  },
  {
   "cell_type": "code",
   "execution_count": 6,
   "id": "d79f21c8",
   "metadata": {},
   "outputs": [
    {
     "name": "stdout",
     "output_type": "stream",
     "text": [
      "classname: Point\n",
      "baseclasses: ()\n",
      "classdict: {'__module__': '__main__', '__qualname__': 'Point', '__init__': <function Point.__init__ at 0x7fb5ca10a5e0>, '__repr__': <function Point.__repr__ at 0x7fb5ca10a670>}\n"
     ]
    }
   ],
   "source": [
    "class Point(metaclass=BadLogger):\n",
    "    def __init__(self, x, y):\n",
    "        self.x = x\n",
    "        self.y = y\n",
    "        \n",
    "    def __repr__(self):\n",
    "        return f\"Point(x={self.x}, y = {self.y})\"\n"
   ]
  },
  {
   "cell_type": "code",
   "execution_count": null,
   "outputs": [],
   "source": [],
   "metadata": {
    "collapsed": false
   }
  },
  {
   "cell_type": "code",
   "execution_count": 1,
   "id": "162ca61a",
   "metadata": {},
   "outputs": [
    {
     "ename": "TypeError",
     "evalue": "descriptor '__init__' requires a 'type' object but received a 'str'",
     "output_type": "error",
     "traceback": [
      "\u001B[0;31m---------------------------------------------------------------------------\u001B[0m",
      "\u001B[0;31mTypeError\u001B[0m                                 Traceback (most recent call last)",
      "Cell \u001B[0;32mIn[1], line 8\u001B[0m\n\u001B[1;32m      4\u001B[0m         \u001B[38;5;28mcls\u001B[39m\u001B[38;5;241m.\u001B[39mname \u001B[38;5;241m=\u001B[39m \u001B[38;5;124m\"\u001B[39m\u001B[38;5;124mClass A\u001B[39m\u001B[38;5;124m\"\u001B[39m\n\u001B[1;32m      5\u001B[0m         attrs[\u001B[38;5;124m'\u001B[39m\u001B[38;5;124mgreet\u001B[39m\u001B[38;5;124m'\u001B[39m] \u001B[38;5;241m=\u001B[39m \u001B[38;5;28;01mlambda\u001B[39;00m \u001B[38;5;28mself\u001B[39m: \u001B[38;5;124mf\u001B[39m\u001B[38;5;124m\"\u001B[39m\u001B[38;5;124mHello from \u001B[39m\u001B[38;5;132;01m{\u001B[39;00mname\u001B[38;5;132;01m}\u001B[39;00m\u001B[38;5;124m\"\u001B[39m\n\u001B[0;32m----> 8\u001B[0m \u001B[38;5;28;43;01mclass\u001B[39;49;00m\u001B[43m \u001B[49m\u001B[38;5;21;43;01mMyClass\u001B[39;49;00m\u001B[43m(\u001B[49m\u001B[43mmetaclass\u001B[49m\u001B[38;5;241;43m=\u001B[39;49m\u001B[43mMetaclass\u001B[49m\u001B[43m)\u001B[49m\u001B[43m:\u001B[49m\n\u001B[1;32m      9\u001B[0m \u001B[43m    \u001B[49m\u001B[38;5;28;43;01mpass\u001B[39;49;00m\n",
      "Cell \u001B[0;32mIn[1], line 3\u001B[0m, in \u001B[0;36mMetaclass.__new__\u001B[0;34m(cls, name, bases, attrs)\u001B[0m\n\u001B[1;32m      2\u001B[0m \u001B[38;5;28;01mdef\u001B[39;00m \u001B[38;5;21m__new__\u001B[39m(\u001B[38;5;28mcls\u001B[39m, name, bases, attrs):\n\u001B[0;32m----> 3\u001B[0m     \u001B[38;5;28;43msuper\u001B[39;49m\u001B[43m(\u001B[49m\u001B[43m)\u001B[49m\u001B[38;5;241;43m.\u001B[39;49m\u001B[38;5;21;43m__init__\u001B[39;49m\u001B[43m(\u001B[49m\u001B[43mname\u001B[49m\u001B[43m,\u001B[49m\u001B[43m \u001B[49m\u001B[43mbases\u001B[49m\u001B[43m,\u001B[49m\u001B[43m \u001B[49m\u001B[43mattrs\u001B[49m\u001B[43m)\u001B[49m\n\u001B[1;32m      4\u001B[0m     \u001B[38;5;28mcls\u001B[39m\u001B[38;5;241m.\u001B[39mname \u001B[38;5;241m=\u001B[39m \u001B[38;5;124m\"\u001B[39m\u001B[38;5;124mClass A\u001B[39m\u001B[38;5;124m\"\u001B[39m\n\u001B[1;32m      5\u001B[0m     attrs[\u001B[38;5;124m'\u001B[39m\u001B[38;5;124mgreet\u001B[39m\u001B[38;5;124m'\u001B[39m] \u001B[38;5;241m=\u001B[39m \u001B[38;5;28;01mlambda\u001B[39;00m \u001B[38;5;28mself\u001B[39m: \u001B[38;5;124mf\u001B[39m\u001B[38;5;124m\"\u001B[39m\u001B[38;5;124mHello from \u001B[39m\u001B[38;5;132;01m{\u001B[39;00mname\u001B[38;5;132;01m}\u001B[39;00m\u001B[38;5;124m\"\u001B[39m\n",
      "\u001B[0;31mTypeError\u001B[0m: descriptor '__init__' requires a 'type' object but received a 'str'"
     ]
    }
   ],
   "source": [
    "class Metaclass(type):\n",
    "    def __new__(cls, clsname, superclasses, attributedict):\n"
   ]
  },
  {
   "cell_type": "code",
   "execution_count": null,
   "id": "0fc9a6ee",
   "metadata": {},
   "outputs": [],
   "source": []
  }
 ],
 "metadata": {
  "kernelspec": {
   "display_name": "Python 3 (ipykernel)",
   "language": "python",
   "name": "python3"
  },
  "language_info": {
   "codemirror_mode": {
    "name": "ipython",
    "version": 3
   },
   "file_extension": ".py",
   "mimetype": "text/x-python",
   "name": "python",
   "nbconvert_exporter": "python",
   "pygments_lexer": "ipython3",
   "version": "3.9.7"
  }
 },
 "nbformat": 4,
 "nbformat_minor": 5
}
