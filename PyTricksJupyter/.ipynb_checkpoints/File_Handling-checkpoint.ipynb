{
 "cells": [
  {
   "cell_type": "markdown",
   "id": "9d71e640",
   "metadata": {},
   "source": [
    "# How the function open() works\n",
    "\n",
    "### Syntax:\n",
    "f = opne(filename, mode)\n",
    "\n",
    "<b>The following modes are supported:</b>\n",
    "   1. r: open an existing file for a read operation.\n",
    "   2. w: open an existing file for a write operation. If the file already contains some data then it will be overridden but if the file is not present then it creates the file as well.\n",
    "   3. a:  open an existing file for append operation. It won’t override existing data.\n",
    "   4. r+:  To read and write data into the file. The previous data in the file will be overridden.\n",
    "   5. w+: To write and read data. It will override existing data.\n",
    "   6. a+: To append and read data from the file. It won’t override existing data."
   ]
  },
  {
   "cell_type": "code",
   "execution_count": 9,
   "id": "c6436be3",
   "metadata": {},
   "outputs": [],
   "source": [
    "#Example 1\n",
    "\n",
    "file = open(\"file.txt\", 'r')\n",
    "\n",
    "data1 = file.readlines()\n",
    "data2 = file.read()"
   ]
  },
  {
   "cell_type": "code",
   "execution_count": 10,
   "id": "16cc8e85",
   "metadata": {},
   "outputs": [
    {
     "data": {
      "text/plain": [
       "['Ana are mere si pere']"
      ]
     },
     "execution_count": 10,
     "metadata": {},
     "output_type": "execute_result"
    }
   ],
   "source": [
    "data1"
   ]
  },
  {
   "cell_type": "code",
   "execution_count": 12,
   "id": "2aed1558",
   "metadata": {},
   "outputs": [
    {
     "name": "stdout",
     "output_type": "stream",
     "text": [
      "\n"
     ]
    }
   ],
   "source": [
    "print(file.read(3))"
   ]
  },
  {
   "cell_type": "markdown",
   "id": "dde10880",
   "metadata": {},
   "source": [
    "# Creating a file using write() mode"
   ]
  },
  {
   "cell_type": "code",
   "execution_count": 13,
   "id": "6cf60a98",
   "metadata": {},
   "outputs": [],
   "source": [
    "file = open(\"text.txt\", \"w\")"
   ]
  },
  {
   "cell_type": "code",
   "execution_count": 14,
   "id": "955c3e62",
   "metadata": {},
   "outputs": [],
   "source": [
    "file.write(\"This is a new line in the file\")\n",
    "file.write(\"Allows for new lines to be written in the file\")\n",
    "file.close()"
   ]
  },
  {
   "cell_type": "markdown",
   "id": "a04d5853",
   "metadata": {},
   "source": [
    "# How append() works"
   ]
  },
  {
   "cell_type": "code",
   "execution_count": 15,
   "id": "e3dbc5f4",
   "metadata": {},
   "outputs": [],
   "source": [
    "file = open(\"file.txt\", 'a')\n",
    "file.write(\"A new line will be added to the file\")\n",
    "file.close()"
   ]
  },
  {
   "cell_type": "markdown",
   "id": "e6329805",
   "metadata": {},
   "source": [
    "# The with() function"
   ]
  },
  {
   "cell_type": "code",
   "execution_count": 16,
   "id": "6ee5b201",
   "metadata": {},
   "outputs": [],
   "source": [
    "with open(\"file.txt\") as file:\n",
    "    data = file.read()"
   ]
  },
  {
   "cell_type": "code",
   "execution_count": 17,
   "id": "ad1d23ee",
   "metadata": {},
   "outputs": [
    {
     "data": {
      "text/plain": [
       "'Ana are mere si pereA new line will be added to the file'"
      ]
     },
     "execution_count": 17,
     "metadata": {},
     "output_type": "execute_result"
    }
   ],
   "source": [
    "data"
   ]
  },
  {
   "cell_type": "code",
   "execution_count": 18,
   "id": "3f103d35",
   "metadata": {},
   "outputs": [],
   "source": [
    "with open(\"file.txt\", \"w\") as f:\n",
    "    f.write(\"Hello World!\")"
   ]
  },
  {
   "cell_type": "code",
   "execution_count": 20,
   "id": "316a5fa2",
   "metadata": {},
   "outputs": [],
   "source": [
    "with open(\"file.txt\") as file:\n",
    "    data = file.read()"
   ]
  },
  {
   "cell_type": "code",
   "execution_count": 21,
   "id": "44e7bded",
   "metadata": {},
   "outputs": [
    {
     "data": {
      "text/plain": [
       "'Hello World!'"
      ]
     },
     "execution_count": 21,
     "metadata": {},
     "output_type": "execute_result"
    }
   ],
   "source": [
    "data"
   ]
  },
  {
   "cell_type": "code",
   "execution_count": 22,
   "id": "ff5bbf84",
   "metadata": {},
   "outputs": [
    {
     "name": "stdout",
     "output_type": "stream",
     "text": [
      "['Hello', 'World!']\n"
     ]
    }
   ],
   "source": [
    "with open(\"file.txt\", \"r\") as f:\n",
    "    data = f.readlines()\n",
    "    for line in data:\n",
    "        word = line.split()\n",
    "        print(word)"
   ]
  },
  {
   "cell_type": "code",
   "execution_count": null,
   "id": "3f9f2c2e",
   "metadata": {},
   "outputs": [],
   "source": []
  }
 ],
 "metadata": {
  "kernelspec": {
   "display_name": "Python 3 (ipykernel)",
   "language": "python",
   "name": "python3"
  },
  "language_info": {
   "codemirror_mode": {
    "name": "ipython",
    "version": 3
   },
   "file_extension": ".py",
   "mimetype": "text/x-python",
   "name": "python",
   "nbconvert_exporter": "python",
   "pygments_lexer": "ipython3",
   "version": "3.9.7"
  }
 },
 "nbformat": 4,
 "nbformat_minor": 5
}
