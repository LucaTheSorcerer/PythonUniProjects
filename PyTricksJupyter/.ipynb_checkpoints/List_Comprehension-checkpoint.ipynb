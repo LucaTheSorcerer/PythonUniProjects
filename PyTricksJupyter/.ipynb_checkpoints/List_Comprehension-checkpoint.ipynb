{
 "cells": [
  {
   "cell_type": "markdown",
   "id": "0f3e3e0e",
   "metadata": {},
   "source": [
    "# Theory:\n",
    "\n",
    "List comprehensions represent a way of generating lists\n",
    "\n",
    "## Syntax:\n",
    "\n",
    "new_list = [expression for member in iterable]\n",
    "\n",
    "### Supercharging a list comprehension\n",
    "\n",
    "new_list = [expression for member in iterable (if conditional)]"
   ]
  },
  {
   "cell_type": "code",
   "execution_count": 1,
   "id": "73906556",
   "metadata": {},
   "outputs": [],
   "source": [
    "#Example 1 - list with squares\n",
    "\n",
    "squares = [i * i for i in range(10)]"
   ]
  },
  {
   "cell_type": "code",
   "execution_count": 2,
   "id": "663386f0",
   "metadata": {},
   "outputs": [
    {
     "data": {
      "text/plain": [
       "[0, 1, 4, 9, 16, 25, 36, 49, 64, 81]"
      ]
     },
     "execution_count": 2,
     "metadata": {},
     "output_type": "execute_result"
    }
   ],
   "source": [
    "squares"
   ]
  },
  {
   "cell_type": "code",
   "execution_count": 3,
   "id": "3fd1c099",
   "metadata": {},
   "outputs": [],
   "source": [
    "#Example 2 - Take only vowels from sentence\n",
    "sentence = 'the rocket came back from mars'\n",
    "\n",
    "vowels = [i for i in sentence if i in 'aeiou']"
   ]
  },
  {
   "cell_type": "code",
   "execution_count": 4,
   "id": "49c9c9be",
   "metadata": {},
   "outputs": [
    {
     "data": {
      "text/plain": [
       "['e', 'o', 'e', 'a', 'e', 'a', 'o', 'a']"
      ]
     },
     "execution_count": 4,
     "metadata": {},
     "output_type": "execute_result"
    }
   ],
   "source": [
    "vowels"
   ]
  },
  {
   "cell_type": "markdown",
   "id": "706c93e9",
   "metadata": {},
   "source": [
    "### Another way of writing comprehension\n",
    "\n",
    "new_list = [expression (if conditional) for member in iterable]"
   ]
  },
  {
   "cell_type": "code",
   "execution_count": 5,
   "id": "25cb743e",
   "metadata": {},
   "outputs": [],
   "source": [
    "#Example 3\n",
    "original_prices = [1.25, -9.45, 10.22, 3.78, -5.92, 1.16]\n",
    "\n",
    "prices = [i if i > 0 else 0 for i in original_prices]"
   ]
  },
  {
   "cell_type": "code",
   "execution_count": 6,
   "id": "668ec4b5",
   "metadata": {},
   "outputs": [
    {
     "data": {
      "text/plain": [
       "[1.25, 0, 10.22, 3.78, 0, 1.16]"
      ]
     },
     "execution_count": 6,
     "metadata": {},
     "output_type": "execute_result"
    }
   ],
   "source": [
    "prices"
   ]
  },
  {
   "cell_type": "code",
   "execution_count": null,
   "id": "19f8df4b",
   "metadata": {},
   "outputs": [],
   "source": []
  }
 ],
 "metadata": {
  "kernelspec": {
   "display_name": "Python 3 (ipykernel)",
   "language": "python",
   "name": "python3"
  },
  "language_info": {
   "codemirror_mode": {
    "name": "ipython",
    "version": 3
   },
   "file_extension": ".py",
   "mimetype": "text/x-python",
   "name": "python",
   "nbconvert_exporter": "python",
   "pygments_lexer": "ipython3",
   "version": "3.9.7"
  }
 },
 "nbformat": 4,
 "nbformat_minor": 5
}
