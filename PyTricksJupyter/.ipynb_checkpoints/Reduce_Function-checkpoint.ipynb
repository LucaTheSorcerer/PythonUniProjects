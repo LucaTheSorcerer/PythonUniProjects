{
 "cells": [
  {
   "cell_type": "markdown",
   "id": "c69e672a",
   "metadata": {},
   "source": [
    "# Theory\n",
    "\n",
    "Python's reduce() function operates on any iterable - not just lists - and performs the following steps:\n",
    "\n",
    "   1. <b> Apply </b> a function to the first two items in an iterable and generate a partial result\n",
    "   2. <b> Use </b> that partial result, together with the third item in the iterable, to generate another partial result\n",
    "   3. <b> Repeat </b> the process until the iterable is exhausted and then return a single value\n",
    "   \n",
    "## Syntax:\n",
    "reduce(function, iterable[, initalizer])\n"
   ]
  },
  {
   "cell_type": "code",
   "execution_count": 1,
   "id": "c4baf430",
   "metadata": {},
   "outputs": [],
   "source": [
    "#Example 1 - Adding two numbers\n",
    "\n",
    "def add(a, b):\n",
    "    result = a + b\n",
    "    print(f\"{a} + {b} = {result}\")\n",
    "    return result"
   ]
  },
  {
   "cell_type": "code",
   "execution_count": 2,
   "id": "2ea2b04a",
   "metadata": {},
   "outputs": [
    {
     "name": "stdout",
     "output_type": "stream",
     "text": [
      "5 + 5 = 10\n"
     ]
    },
    {
     "data": {
      "text/plain": [
       "10"
      ]
     },
     "execution_count": 2,
     "metadata": {},
     "output_type": "execute_result"
    }
   ],
   "source": [
    "add(5, 5)"
   ]
  },
  {
   "cell_type": "code",
   "execution_count": 3,
   "id": "f37d5b2a",
   "metadata": {},
   "outputs": [],
   "source": [
    "from functools import reduce"
   ]
  },
  {
   "cell_type": "code",
   "execution_count": 4,
   "id": "96f1905a",
   "metadata": {},
   "outputs": [
    {
     "name": "stdout",
     "output_type": "stream",
     "text": [
      "0 + 1 = 1\n",
      "1 + 2 = 3\n",
      "3 + 3 = 6\n",
      "6 + 4 = 10\n"
     ]
    },
    {
     "data": {
      "text/plain": [
       "10"
      ]
     },
     "execution_count": 4,
     "metadata": {},
     "output_type": "execute_result"
    }
   ],
   "source": [
    "numbers = [0, 1, 2, 3, 4]\n",
    "\n",
    "reduce(add, numbers)"
   ]
  },
  {
   "cell_type": "code",
   "execution_count": 5,
   "id": "8f7c6cac",
   "metadata": {},
   "outputs": [
    {
     "name": "stdout",
     "output_type": "stream",
     "text": [
      "100 + 0 = 100\n",
      "100 + 1 = 101\n",
      "101 + 2 = 103\n",
      "103 + 3 = 106\n",
      "106 + 4 = 110\n"
     ]
    },
    {
     "data": {
      "text/plain": [
       "110"
      ]
     },
     "execution_count": 5,
     "metadata": {},
     "output_type": "execute_result"
    }
   ],
   "source": [
    "reduce(add, numbers, 100)"
   ]
  },
  {
   "cell_type": "code",
   "execution_count": 6,
   "id": "56e4ccc3",
   "metadata": {},
   "outputs": [],
   "source": [
    "numbers = [1, 2, 3, 4]\n",
    "\n",
    "sum_numbers = reduce(lambda a, b: a + b, numbers)"
   ]
  },
  {
   "cell_type": "code",
   "execution_count": 7,
   "id": "ba5c70fe",
   "metadata": {},
   "outputs": [
    {
     "name": "stdout",
     "output_type": "stream",
     "text": [
      "10\n"
     ]
    }
   ],
   "source": [
    "print(sum_numbers)"
   ]
  },
  {
   "cell_type": "code",
   "execution_count": 8,
   "id": "994fd23a",
   "metadata": {},
   "outputs": [],
   "source": [
    "#Example 2 - Multiplying two numbers\n",
    "numbers = [1, 2, 3, 4]\n",
    "product_numbers = reduce(lambda a, b: a * b, numbers)"
   ]
  },
  {
   "cell_type": "code",
   "execution_count": 9,
   "id": "8a43d2e5",
   "metadata": {},
   "outputs": [
    {
     "name": "stdout",
     "output_type": "stream",
     "text": [
      "24\n"
     ]
    }
   ],
   "source": [
    "print(product_numbers)"
   ]
  },
  {
   "cell_type": "code",
   "execution_count": null,
   "id": "4df541dd",
   "metadata": {},
   "outputs": [],
   "source": [
    "#Example 3 - Finding minimum and maximum in a list of numbers\n",
    "\n",
    "numbers = [3, 5, 2, 4, 7, 1]\n",
    "\n",
    "minimum_value = "
   ]
  }
 ],
 "metadata": {
  "kernelspec": {
   "display_name": "Python 3 (ipykernel)",
   "language": "python",
   "name": "python3"
  },
  "language_info": {
   "codemirror_mode": {
    "name": "ipython",
    "version": 3
   },
   "file_extension": ".py",
   "mimetype": "text/x-python",
   "name": "python",
   "nbconvert_exporter": "python",
   "pygments_lexer": "ipython3",
   "version": "3.9.7"
  }
 },
 "nbformat": 4,
 "nbformat_minor": 5
}
