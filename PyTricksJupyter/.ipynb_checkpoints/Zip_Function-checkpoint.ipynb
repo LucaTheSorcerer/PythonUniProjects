{
 "cells": [
  {
   "cell_type": "markdown",
   "id": "36e8b109",
   "metadata": {},
   "source": [
    "# Theory:\n",
    "\n",
    "Python's zip() function is defined as zip(*iterable). The function takes in iterables and it returns an iterator. The iterator generates a series of tuples and zip() accepts any type of iterable, such as lists, tuples, dictionaroes, etc."
   ]
  },
  {
   "cell_type": "code",
   "execution_count": 2,
   "id": "8c6973e3",
   "metadata": {},
   "outputs": [
    {
     "name": "stdout",
     "output_type": "stream",
     "text": [
      "[(1, 'a'), (2, 'b'), (3, 'c')]\n"
     ]
    }
   ],
   "source": [
    "#Example 1 - How it works!\n",
    "numbers = [1, 2, 3]\n",
    "letters = ['a', 'b', 'c']\n",
    "\n",
    "zipped = zip(numbers, letters)\n",
    "print(list(zipped))"
   ]
  },
  {
   "cell_type": "code",
   "execution_count": 4,
   "id": "ad090646",
   "metadata": {},
   "outputs": [
    {
     "name": "stdout",
     "output_type": "stream",
     "text": [
      "Letter: a\n",
      "Number: 1\n",
      "Letter: b\n",
      "Number: 2\n",
      "Letter: c\n",
      "Number: 3\n"
     ]
    }
   ],
   "source": [
    "#Example 2 - Traversing Lists in Parallel\n",
    "for letter, number in zip(letters, numbers):\n",
    "    print(f\"Letter: {letter}\")\n",
    "    print(f\"Number: {number}\")"
   ]
  },
  {
   "cell_type": "code",
   "execution_count": 7,
   "id": "a53c41d5",
   "metadata": {},
   "outputs": [
    {
     "name": "stdout",
     "output_type": "stream",
     "text": [
      "name1 : John\n",
      "n1 : Silvia\n",
      "name2 : Bob\n",
      "n2 : Maria\n",
      "name3 : Luca\n",
      "n3 : Ana\n"
     ]
    }
   ],
   "source": [
    "#Example 3 - Traversing Dictionaries in Parallel\n",
    "dict_one = {'name1': 'John', 'name2': 'Bob', 'name3' : 'Luca'}\n",
    "dict_two = {'n1' : 'Silvia', 'n2': 'Maria', 'n3': 'Ana'}\n",
    "\n",
    "for(key1, value1), (key2, value2) in zip(dict_one.items(), dict_two.items()):\n",
    "    print(key1, \":\", value1)\n",
    "    print(key2, \":\", value2)"
   ]
  },
  {
   "cell_type": "code",
   "execution_count": null,
   "id": "1a5d4ec9",
   "metadata": {},
   "outputs": [],
   "source": []
  }
 ],
 "metadata": {
  "kernelspec": {
   "display_name": "Python 3 (ipykernel)",
   "language": "python",
   "name": "python3"
  },
  "language_info": {
   "codemirror_mode": {
    "name": "ipython",
    "version": 3
   },
   "file_extension": ".py",
   "mimetype": "text/x-python",
   "name": "python",
   "nbconvert_exporter": "python",
   "pygments_lexer": "ipython3",
   "version": "3.9.7"
  }
 },
 "nbformat": 4,
 "nbformat_minor": 5
}
