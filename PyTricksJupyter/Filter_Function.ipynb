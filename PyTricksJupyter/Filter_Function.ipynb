{
 "cells": [
  {
   "cell_type": "markdown",
   "id": "435b280a",
   "metadata": {},
   "source": [
    "## Theory\n",
    "\n",
    "filter(function, sequence)\n",
    "\n",
    "<b> Parameters:</b>\n",
    "\n",
    "<b>function:</b> a function that tests if each element of the sequence is true or not\n",
    "\n",
    "<b>sequence:</b> sequence which needs to be filtered --> it can be sets, lists, tuples, or containers of any iterators\n",
    "\n",
    "<b> Returns: an iterator that is already filtered </b>"
   ]
  },
  {
   "cell_type": "code",
   "execution_count": 1,
   "id": "a35b7f66",
   "metadata": {},
   "outputs": [],
   "source": [
    "#Example 1\n",
    "sequence = [0, 1, 2, 3, 4, 5, 6, 7, 8, 9]\n",
    "\n",
    "result1 = filter(lambda x: x % 2 == 0, sequence)\n",
    "result2 = filter(lambda x: x % 2 != 0, sequence)"
   ]
  },
  {
   "cell_type": "code",
   "execution_count": 3,
   "id": "db43bb4c",
   "metadata": {},
   "outputs": [
    {
     "name": "stdout",
     "output_type": "stream",
     "text": [
      "[0, 2, 4, 6, 8]\n"
     ]
    }
   ],
   "source": [
    "print(list(result1))"
   ]
  },
  {
   "cell_type": "code",
   "execution_count": 4,
   "id": "5ca7e1ee",
   "metadata": {},
   "outputs": [
    {
     "name": "stdout",
     "output_type": "stream",
     "text": [
      "[1, 3, 5, 7, 9]\n"
     ]
    }
   ],
   "source": [
    "print(list(result2))"
   ]
  },
  {
   "cell_type": "code",
   "execution_count": 5,
   "id": "f5cc175d",
   "metadata": {},
   "outputs": [],
   "source": [
    "#Example 2\n",
    "ages = [5, 12, 17, 18, 24, 32]\n",
    "\n",
    "adults = filter(lambda x: x >= 18, ages)"
   ]
  },
  {
   "cell_type": "code",
   "execution_count": 6,
   "id": "99a05aca",
   "metadata": {},
   "outputs": [
    {
     "name": "stdout",
     "output_type": "stream",
     "text": [
      "[18, 24, 32]\n"
     ]
    }
   ],
   "source": [
    "print(list(adults))"
   ]
  },
  {
   "cell_type": "code",
   "execution_count": 7,
   "id": "7513993a",
   "metadata": {},
   "outputs": [],
   "source": [
    "#Example 3\n",
    "numbers = [-2, -1, 0, 1, 2]\n",
    "\n",
    "positive_numbers = filter(lambda x: x >= 0 ,numbers)"
   ]
  },
  {
   "cell_type": "code",
   "execution_count": 8,
   "id": "ff6045e5",
   "metadata": {},
   "outputs": [
    {
     "name": "stdout",
     "output_type": "stream",
     "text": [
      "[0, 1, 2]\n"
     ]
    }
   ],
   "source": [
    "print(list(positive_numbers))"
   ]
  },
  {
   "cell_type": "code",
   "execution_count": 15,
   "id": "1c64d11d",
   "metadata": {},
   "outputs": [],
   "source": [
    "#Example 4\n",
    "\n",
    "objects = [0, 1, [], 4, 5, \"\", None, 8]\n",
    "\n",
    "identity = filter(lambda x: x ,objects)"
   ]
  },
  {
   "cell_type": "code",
   "execution_count": 16,
   "id": "187e67c2",
   "metadata": {},
   "outputs": [
    {
     "name": "stdout",
     "output_type": "stream",
     "text": [
      "[1, 4, 5, 8]\n"
     ]
    }
   ],
   "source": [
    "print(list(identity))"
   ]
  },
  {
   "cell_type": "code",
   "execution_count": 17,
   "id": "8d91e382",
   "metadata": {},
   "outputs": [],
   "source": [
    "#Example 5 - Even numbers\n",
    "numbers = [1, 3, 10, 45, 6, 50]\n",
    "\n",
    "even_numbers = list(filter(lambda x: x % 2 == 0,numbers))"
   ]
  },
  {
   "cell_type": "code",
   "execution_count": 18,
   "id": "c8360015",
   "metadata": {},
   "outputs": [
    {
     "name": "stdout",
     "output_type": "stream",
     "text": [
      "[10, 6, 50]\n"
     ]
    }
   ],
   "source": [
    "print(even_numbers)"
   ]
  },
  {
   "cell_type": "code",
   "execution_count": 21,
   "id": "ff81352d",
   "metadata": {},
   "outputs": [],
   "source": [
    "#Example 6 - Finding Palindrome\n",
    "words = (\"filter\", \"Ana\", \"hello\", \"world\", \"madam\", \"racecar\")\n",
    "\n",
    "palindrome = filter(lambda x: x.lower() == x[::-1].lower() ,words)"
   ]
  },
  {
   "cell_type": "code",
   "execution_count": 24,
   "id": "e10c5228",
   "metadata": {},
   "outputs": [
    {
     "name": "stdout",
     "output_type": "stream",
     "text": [
      "['Ana', 'madam', 'racecar']\n"
     ]
    }
   ],
   "source": [
    "print(list(palindrome))"
   ]
  },
  {
   "cell_type": "markdown",
   "id": "02a62948",
   "metadata": {},
   "source": [
    "## Using filter() and map() combined"
   ]
  },
  {
   "cell_type": "code",
   "execution_count": 26,
   "id": "7551d371",
   "metadata": {},
   "outputs": [],
   "source": [
    "#Example 7 - Compute the square root value of all even numbers in a list\n",
    "\n",
    "numbers = [1, 3, 10, 45, 6, 50]\n",
    "\n",
    "square_even_numbers = list(map(lambda x : x ** 2, filter(lambda x : x % 2 == 0, numbers)))"
   ]
  },
  {
   "cell_type": "code",
   "execution_count": 27,
   "id": "fa212bb2",
   "metadata": {},
   "outputs": [
    {
     "name": "stdout",
     "output_type": "stream",
     "text": [
      "[100, 36, 2500]\n"
     ]
    }
   ],
   "source": [
    "print(square_even_numbers)"
   ]
  },
  {
   "cell_type": "code",
   "execution_count": 29,
   "id": "615c88da",
   "metadata": {},
   "outputs": [
    {
     "name": "stdout",
     "output_type": "stream",
     "text": [
      "66\n"
     ]
    }
   ],
   "source": [
    "#Example 8 - Sum of even numbers\n",
    "from functools import reduce\n",
    "even_numbers = reduce(lambda a, b: a + b, filter(lambda x: x % 2 ==0, numbers))\n",
    "print(even_numbers)"
   ]
  },
  {
   "cell_type": "code",
   "execution_count": null,
   "id": "1ec2b707",
   "metadata": {},
   "outputs": [],
   "source": []
  }
 ],
 "metadata": {
  "kernelspec": {
   "display_name": "Python 3 (ipykernel)",
   "language": "python",
   "name": "python3"
  },
  "language_info": {
   "codemirror_mode": {
    "name": "ipython",
    "version": 3
   },
   "file_extension": ".py",
   "mimetype": "text/x-python",
   "name": "python",
   "nbconvert_exporter": "python",
   "pygments_lexer": "ipython3",
   "version": "3.9.7"
  }
 },
 "nbformat": 4,
 "nbformat_minor": 5
}
