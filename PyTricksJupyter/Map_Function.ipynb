{
 "cells": [
  {
   "cell_type": "markdown",
   "id": "99148683",
   "metadata": {},
   "source": [
    "## Theory\n",
    "\n",
    "<b> Map </b> loops over the items of an input iterable and returns an iterator --> results from applying a <b> transformation function </b> to every item of the original input iterable\n",
    "\n",
    "<b> Syntax: </b>\n",
    "    \n",
    "    map(function, iterable[iterable1, iterable2,...iterablen]"
   ]
  },
  {
   "cell_type": "code",
   "execution_count": 1,
   "id": "60e02ac0",
   "metadata": {},
   "outputs": [],
   "source": [
    "#Example 1 - Square numbers\n",
    "\n",
    "#Without map\n",
    "\n",
    "numbers = [1, 2, 3, 4, 5]\n",
    "squared = []\n",
    "\n",
    "for number in numbers:\n",
    "    squared.append(number ** 2)"
   ]
  },
  {
   "cell_type": "code",
   "execution_count": 2,
   "id": "cbf9922a",
   "metadata": {},
   "outputs": [
    {
     "name": "stdout",
     "output_type": "stream",
     "text": [
      "[1, 4, 9, 16, 25]\n"
     ]
    }
   ],
   "source": [
    "print(squared)"
   ]
  },
  {
   "cell_type": "code",
   "execution_count": 3,
   "id": "e82f90a1",
   "metadata": {},
   "outputs": [],
   "source": [
    "squared = list(map(lambda x : x ** 2 ,numbers))"
   ]
  },
  {
   "cell_type": "code",
   "execution_count": 4,
   "id": "09372da7",
   "metadata": {},
   "outputs": [
    {
     "name": "stdout",
     "output_type": "stream",
     "text": [
      "[1, 4, 9, 16, 25]\n"
     ]
    }
   ],
   "source": [
    "print(squared)"
   ]
  },
  {
   "cell_type": "code",
   "execution_count": 5,
   "id": "5dbead80",
   "metadata": {},
   "outputs": [
    {
     "name": "stdout",
     "output_type": "stream",
     "text": [
      "[4, 8, 6, 5, 3, 2, 8, 9, 2, 5]\n"
     ]
    }
   ],
   "source": [
    "#Example 2 - String to int\n",
    "string_nums = [\"4\", \"8\", \"6\", \"5\", \"3\", \"2\", \"8\", \"9\", \"2\", \"5\"]\n",
    "\n",
    "int_nums = list(map(lambda x: int(x), string_nums))\n",
    "\n",
    "print(int_nums)"
   ]
  },
  {
   "cell_type": "code",
   "execution_count": 14,
   "id": "3c852484",
   "metadata": {},
   "outputs": [],
   "source": [
    "#Example 3 - Using map() with different Functions\n",
    "\n",
    "numbers = [-2, -1, 0, 1, 2]\n",
    "\n",
    "absolute_value = list(map(abs, numbers))\n",
    "absolute_value1 = list(map(lambda x: -x if x < 0 else x, numbers))\n",
    "\n",
    "words = [\"Welcome\", \"To\", \"The\", \"Matrix\", \",\", \"Neo\"]\n",
    "length_of_words = list(map(len,words))"
   ]
  },
  {
   "cell_type": "code",
   "execution_count": 15,
   "id": "3eca8b9b",
   "metadata": {},
   "outputs": [
    {
     "name": "stdout",
     "output_type": "stream",
     "text": [
      "[2, 1, 0, 1, 2]\n",
      "[2, 1, 0, 1, 2]\n",
      "[7, 2, 3, 6, 1, 3]\n"
     ]
    }
   ],
   "source": [
    "print(absolute_value)\n",
    "print(absolute_value1)\n",
    "print(length_of_words)"
   ]
  },
  {
   "cell_type": "code",
   "execution_count": 23,
   "id": "405d5d53",
   "metadata": {},
   "outputs": [],
   "source": [
    "#Example 4 - Multiple Iterables\n",
    "first_list = [1, 2, 3]\n",
    "second_list = [4, 5, 6, 7]\n",
    "\n",
    "result_list = list(map(lambda x, y: (x ** 2, y ** 2), first_list, second_list))"
   ]
  },
  {
   "cell_type": "code",
   "execution_count": 24,
   "id": "5b9d1339",
   "metadata": {},
   "outputs": [
    {
     "name": "stdout",
     "output_type": "stream",
     "text": [
      "[(1, 16), (4, 25), (9, 36)]\n"
     ]
    }
   ],
   "source": [
    "print(result_list)"
   ]
  },
  {
   "cell_type": "code",
   "execution_count": null,
   "id": "ed909bea",
   "metadata": {},
   "outputs": [],
   "source": []
  }
 ],
 "metadata": {
  "kernelspec": {
   "display_name": "Python 3 (ipykernel)",
   "language": "python",
   "name": "python3"
  },
  "language_info": {
   "codemirror_mode": {
    "name": "ipython",
    "version": 3
   },
   "file_extension": ".py",
   "mimetype": "text/x-python",
   "name": "python",
   "nbconvert_exporter": "python",
   "pygments_lexer": "ipython3",
   "version": "3.9.7"
  }
 },
 "nbformat": 4,
 "nbformat_minor": 5
}
