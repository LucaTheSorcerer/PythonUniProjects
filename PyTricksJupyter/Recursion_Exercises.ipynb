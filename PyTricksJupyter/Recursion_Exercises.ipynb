{
 "cells": [
  {
   "cell_type": "markdown",
   "id": "730cc340",
   "metadata": {},
   "source": [
    "# Recursion Exercises from the Seminar 10"
   ]
  },
  {
   "cell_type": "markdown",
   "id": "51faff77",
   "metadata": {},
   "source": [
    "### 1. Schreiben Sie eine Funktion, die die Summe aller geraden Ziffer einer angegebenen Zahl berechnet."
   ]
  },
  {
   "cell_type": "code",
   "execution_count": 1,
   "id": "e79dbe32",
   "metadata": {},
   "outputs": [],
   "source": [
    "def sum_all_ziffer(number):\n",
    "    if number == 0:\n",
    "        return 0\n",
    "    c = number % 10\n",
    "    return (c if c % 2 ==0 else 0 ) + sum_all_ziffer(number//10)"
   ]
  },
  {
   "cell_type": "code",
   "execution_count": 2,
   "id": "17bfb7c1",
   "metadata": {},
   "outputs": [
    {
     "data": {
      "text/plain": [
       "6"
      ]
     },
     "execution_count": 2,
     "metadata": {},
     "output_type": "execute_result"
    }
   ],
   "source": [
    "sum_all_ziffer(12345)"
   ]
  },
  {
   "cell_type": "markdown",
   "id": "a58a39f1",
   "metadata": {},
   "source": [
    "### 2. Schreiben Sie eine Funktion, die den letzten erhaltenen Großbuchstabe der Zeichenkette zurückgibt."
   ]
  },
  {
   "cell_type": "code",
   "execution_count": null,
   "id": "7d34ce86",
   "metadata": {},
   "outputs": [],
   "source": []
  },
  {
   "cell_type": "markdown",
   "id": "554227d1",
   "metadata": {},
   "source": [
    "### 3. Schreiben Sie für eine gegebene Zeichenkette eine Funktion, die die Gesamtzahl der darin enthaltenen Vokalen (a, e, i, o und u) zählt."
   ]
  },
  {
   "cell_type": "code",
   "execution_count": 3,
   "id": "b737fb4f",
   "metadata": {},
   "outputs": [],
   "source": [
    "def total_vocals(list_of_letters):\n",
    "    vocals = [\"a\", \"e\", \"i\", \"o\", \"u\"]\n",
    "    if len(list_of_letters) == 0:\n",
    "        return 0\n",
    "    return (1 if list_of_letters[0] in \"aeiouAEIOU\" else 0) + total_vocals(list_of_letters[1:])"
   ]
  },
  {
   "cell_type": "code",
   "execution_count": 5,
   "id": "b65e6859",
   "metadata": {},
   "outputs": [
    {
     "name": "stdout",
     "output_type": "stream",
     "text": [
      "10\n"
     ]
    }
   ],
   "source": [
    "list_of_letters = [\"u\", \"e\", \"b\"]\n",
    "print(total_vocals(\"Fundamentele Programarii\"))"
   ]
  },
  {
   "cell_type": "markdown",
   "id": "4a68e24c",
   "metadata": {},
   "source": [
    "### 4. Schreiben Sie für eine Zahl eine Funktion, die true zurückgibt, wenn die angegebene Zahl Palindrom ist, andernfalls falsch."
   ]
  },
  {
   "cell_type": "code",
   "execution_count": 7,
   "id": "0bd673b4",
   "metadata": {},
   "outputs": [],
   "source": [
    "def check_palindrome(number):\n",
    "    return len(number) < 2 or number[0] == number[-1] and check_palindrome(number[1:-1])"
   ]
  },
  {
   "cell_type": "code",
   "execution_count": 11,
   "id": "ea97d564",
   "metadata": {},
   "outputs": [
    {
     "data": {
      "text/plain": [
       "True"
      ]
     },
     "execution_count": 11,
     "metadata": {},
     "output_type": "execute_result"
    }
   ],
   "source": [
    "check_palindrome(\"1331\")"
   ]
  },
  {
   "cell_type": "markdown",
   "id": "4cec5219",
   "metadata": {},
   "source": [
    "### 5. Schreiben Sie eine Funktion, die das größte Element einer Liste zurückgibt."
   ]
  },
  {
   "cell_type": "code",
   "execution_count": 14,
   "id": "43fc2547",
   "metadata": {},
   "outputs": [],
   "source": [
    "def biggest_number_in_list(number_list):\n",
    "    if len(number_list) == 0:\n",
    "        return 0\n",
    "    return max(number_list[0], biggest_number_in_list(number_list[1:]))"
   ]
  },
  {
   "cell_type": "code",
   "execution_count": 15,
   "id": "81e345aa",
   "metadata": {},
   "outputs": [
    {
     "data": {
      "text/plain": [
       "165"
      ]
     },
     "execution_count": 15,
     "metadata": {},
     "output_type": "execute_result"
    }
   ],
   "source": [
    "number_list = [1, 165, 5, 6, 7]\n",
    "biggest_number_in_list(number_list)"
   ]
  },
  {
   "cell_type": "markdown",
   "id": "56218c53",
   "metadata": {},
   "source": [
    "### 6. Schreiben Sie eine Funktion, die prüft, ob eine Zahl in einer Liste erhalten ist. Jedes Element kann entweder eine Liste oder eine Zahl sein."
   ]
  },
  {
   "cell_type": "code",
   "execution_count": 21,
   "id": "d9eb054e",
   "metadata": {},
   "outputs": [],
   "source": [
    "def check_if_number_in_list(number_list, number):\n",
    "    for element in number_list:\n",
    "        if type(element) is list:\n",
    "            if check_if_number_in_list(element, number):\n",
    "                return True\n",
    "            \n",
    "            if element == number:\n",
    "                return True\n",
    "    return False"
   ]
  },
  {
   "cell_type": "code",
   "execution_count": 22,
   "id": "eeeabd4d",
   "metadata": {},
   "outputs": [
    {
     "name": "stdout",
     "output_type": "stream",
     "text": [
      "False\n"
     ]
    }
   ],
   "source": [
    "print(check_if_number_in_list([1, 2, 3, [[[[[1, 2, 3]]]]]], 3))"
   ]
  },
  {
   "cell_type": "markdown",
   "id": "f2634fb1",
   "metadata": {},
   "source": [
    "### 7. Schreiben Sie eine Funktion, die die Summe der Elemente einer Liste berechnet. Jedes Element kann entweder eine Liste oder eine Zahl sein."
   ]
  },
  {
   "cell_type": "code",
   "execution_count": 26,
   "id": "a802964f",
   "metadata": {},
   "outputs": [],
   "source": [
    "def sum_elements_in_list(listt):\n",
    "    if type(listt) is int:\n",
    "        return listt\n",
    "    \n",
    "    if len(listt) < 2:\n",
    "        return sum_elements_in_list(listt[0])\n",
    "    \n",
    "    mid = len(listt) // 2\n",
    "    \n",
    "    return sum_elements_in_list(listt[:mid]) + sum_elements_in_list(listt[mid:])"
   ]
  },
  {
   "cell_type": "code",
   "execution_count": 27,
   "id": "a927258e",
   "metadata": {},
   "outputs": [
    {
     "data": {
      "text/plain": [
       "12"
      ]
     },
     "execution_count": 27,
     "metadata": {},
     "output_type": "execute_result"
    }
   ],
   "source": [
    "sum_elements_in_list([1, 2, 3, [[[[[1, 2, 3]]]]]])"
   ]
  },
  {
   "cell_type": "code",
   "execution_count": null,
   "id": "91637f6a",
   "metadata": {},
   "outputs": [],
   "source": []
  }
 ],
 "metadata": {
  "kernelspec": {
   "display_name": "Python 3 (ipykernel)",
   "language": "python",
   "name": "python3"
  },
  "language_info": {
   "codemirror_mode": {
    "name": "ipython",
    "version": 3
   },
   "file_extension": ".py",
   "mimetype": "text/x-python",
   "name": "python",
   "nbconvert_exporter": "python",
   "pygments_lexer": "ipython3",
   "version": "3.9.7"
  }
 },
 "nbformat": 4,
 "nbformat_minor": 5
}
