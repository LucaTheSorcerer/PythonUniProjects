{
 "cells": [
  {
   "cell_type": "markdown",
   "id": "5d5b1639",
   "metadata": {},
   "source": [
    "## List Comprehension\n",
    "\n",
    "Form: expression + context"
   ]
  },
  {
   "cell_type": "code",
   "execution_count": 1,
   "id": "ac91c1fb",
   "metadata": {},
   "outputs": [
    {
     "data": {
      "text/plain": [
       "[0, 2, 4]"
      ]
     },
     "execution_count": 1,
     "metadata": {},
     "output_type": "execute_result"
    }
   ],
   "source": [
    "[x * 2 for x in range(3)]"
   ]
  },
  {
   "cell_type": "code",
   "execution_count": 3,
   "id": "3dae1f49",
   "metadata": {},
   "outputs": [
    {
     "name": "stdout",
     "output_type": "stream",
     "text": [
      "[(0, 0), (0, 1), (0, 2), (0, 3), (0, 4), (1, 0), (1, 1), (1, 2), (1, 3), (1, 4), (2, 0), (2, 1), (2, 2), (2, 3), (2, 4), (3, 0), (3, 1), (3, 2), (3, 3), (3, 4), (4, 0), (4, 1), (4, 2), (4, 3), (4, 4)]\n"
     ]
    }
   ],
   "source": [
    "print([(x,y) for x in range(5) for y in range(5)])"
   ]
  },
  {
   "cell_type": "markdown",
   "id": "b3a6fdcc",
   "metadata": {},
   "source": [
    "Expression = Tuple of form (x,y)\n",
    "Context = "
   ]
  },
  {
   "cell_type": "code",
   "execution_count": 1,
   "id": "c78e895e",
   "metadata": {},
   "outputs": [],
   "source": [
    "text = '''\n",
    "Call me Ishmael. Some years ago - never mind how long precisely - having\n",
    "little or no money in my purse, and nothing particular to interest me\n",
    "on shore, I thought I would sail about a little and see the watery part\n",
    "of the world. It is a way I have of driving off the spleen, and regulating\n",
    "the circulation. - Moby Dick'''"
   ]
  },
  {
   "cell_type": "code",
   "execution_count": 2,
   "id": "4be6cabd",
   "metadata": {},
   "outputs": [],
   "source": [
    "w = [[x for x in line.split() if len(x) > 3] for line in text.split('\\n')]"
   ]
  },
  {
   "cell_type": "code",
   "execution_count": 4,
   "id": "507747e6",
   "metadata": {},
   "outputs": [
    {
     "name": "stdout",
     "output_type": "stream",
     "text": [
      "[[], ['Call', 'Ishmael.', 'Some', 'years', 'never', 'mind', 'long', 'precisely', 'having'], ['little', 'money', 'purse,', 'nothing', 'particular', 'interest'], ['shore,', 'thought', 'would', 'sail', 'about', 'little', 'watery', 'part'], ['world.', 'have', 'driving', 'spleen,', 'regulating'], ['circulation.', 'Moby', 'Dick']]\n"
     ]
    }
   ],
   "source": [
    "print(w)"
   ]
  },
  {
   "cell_type": "code",
   "execution_count": 5,
   "id": "30142507",
   "metadata": {},
   "outputs": [
    {
     "name": "stdout",
     "output_type": "stream",
     "text": [
      "['filename = \"readFileDefault.py\" # this code', 'f = open(filename)', 'lines = []', 'for line in f:', 'lines.append(line.strip())', 'print(lines)']\n"
     ]
    }
   ],
   "source": [
    "filename = \"text.py\"\n",
    "\n",
    "f = open(filename, 'r')\n",
    "\n",
    "lines = []\n",
    "\n",
    "for line in f:\n",
    "    lines.append(line.strip())\n",
    "print(lines)"
   ]
  },
  {
   "cell_type": "code",
   "execution_count": 7,
   "id": "a46b2db6",
   "metadata": {},
   "outputs": [
    {
     "name": "stdout",
     "output_type": "stream",
     "text": [
      "['filename = \"readFileDefault.py\" # this code', 'f = open(filename)', 'lines = []', 'for line in f:', 'lines.append(line.strip())', 'print(lines)']\n"
     ]
    }
   ],
   "source": [
    "print([line.strip() for line in open(\"text.py\", 'r')])"
   ]
  },
  {
   "cell_type": "markdown",
   "id": "c55d4767",
   "metadata": {},
   "source": [
    "## Lambda + map() function combined"
   ]
  },
  {
   "cell_type": "code",
   "execution_count": 8,
   "id": "36b7746b",
   "metadata": {},
   "outputs": [],
   "source": [
    "#Data\n",
    "txt = ['lambda functions are anonymous functions.',\n",
    "       'anonymous functions dont have a name.',\n",
    "       'functions are objects in Python.']"
   ]
  },
  {
   "cell_type": "code",
   "execution_count": 9,
   "id": "ba957537",
   "metadata": {},
   "outputs": [],
   "source": [
    "#One-Liner\n",
    "mark = map(lambda s: (True,s) if 'anonymous' in s else (False, s), txt)"
   ]
  },
  {
   "cell_type": "code",
   "execution_count": 10,
   "id": "11cf67e8",
   "metadata": {},
   "outputs": [
    {
     "name": "stdout",
     "output_type": "stream",
     "text": [
      "[(True, 'lambda functions are anonymous functions.'), (True, 'anonymous functions dont have a name.'), (False, 'functions are objects in Python.')]\n"
     ]
    }
   ],
   "source": [
    "print(list(mark))"
   ]
  },
  {
   "cell_type": "markdown",
   "id": "baf0876b",
   "metadata": {},
   "source": [
    "## Slicing to extract matching substring environments"
   ]
  },
  {
   "cell_type": "code",
   "execution_count": 11,
   "id": "7bb8a8a8",
   "metadata": {},
   "outputs": [],
   "source": [
    "## Data\n",
    "letters_amazon = '''\n",
    "We spent several years building our own database engine,\n",
    "Amazon Aurora, a fully-managed MySQL and PostgreSQL-compatible\n",
    "service with the same or better durability and availability as\n",
    "the commercial engines, but at one-tenth of the cost. We were\n",
    "not surprised when this worked.\n",
    "'''"
   ]
  },
  {
   "cell_type": "code",
   "execution_count": 14,
   "id": "601dbf04",
   "metadata": {},
   "outputs": [],
   "source": [
    "##One-Liner\n",
    "find = lambda x, q: x[x.find(q)-18:x.find(q)+18] if q in x else -1"
   ]
  },
  {
   "cell_type": "code",
   "execution_count": 15,
   "id": "f477121b",
   "metadata": {},
   "outputs": [
    {
     "name": "stdout",
     "output_type": "stream",
     "text": [
      "a fully-managed MySQL and PostgreSQL\n"
     ]
    }
   ],
   "source": [
    "##Result\n",
    "print(find(letters_amazon, 'SQL'))"
   ]
  },
  {
   "cell_type": "markdown",
   "id": "72a214cc",
   "metadata": {},
   "source": [
    "## List comprehension + Slicing"
   ]
  },
  {
   "cell_type": "code",
   "execution_count": 16,
   "id": "ccf69335",
   "metadata": {},
   "outputs": [],
   "source": [
    "## Data (daily stock prices ($))\n",
    "price = [[9.9, 9.8, 9.8, 9.4, 9.5, 9.7],\n",
    "         [9.5, 9.4, 9.4, 9.3, 9.2, 9.1],\n",
    "         [8.4, 7.9, 7.9, 8.1, 8.0, 8.0],\n",
    "         [7.1, 5.9, 4.8, 4.8, 4.7, 3.9]]"
   ]
  },
  {
   "cell_type": "code",
   "execution_count": 17,
   "id": "c0d15686",
   "metadata": {},
   "outputs": [],
   "source": [
    "##One-Liner\n",
    "sample = [line[::2] for line in price]"
   ]
  },
  {
   "cell_type": "code",
   "execution_count": 20,
   "id": "ea985fbd",
   "metadata": {},
   "outputs": [
    {
     "name": "stdout",
     "output_type": "stream",
     "text": [
      "[[9.9, 9.8, 9.5], [9.5, 9.4, 9.2], [8.4, 7.9, 8.0], [7.1, 4.8, 4.7]]\n"
     ]
    }
   ],
   "source": [
    "##Result\n",
    "print(sample)"
   ]
  },
  {
   "cell_type": "code",
   "execution_count": null,
   "id": "a019b34d",
   "metadata": {},
   "outputs": [],
   "source": []
  }
 ],
 "metadata": {
  "kernelspec": {
   "display_name": "Python 3 (ipykernel)",
   "language": "python",
   "name": "python3"
  },
  "language_info": {
   "codemirror_mode": {
    "name": "ipython",
    "version": 3
   },
   "file_extension": ".py",
   "mimetype": "text/x-python",
   "name": "python",
   "nbconvert_exporter": "python",
   "pygments_lexer": "ipython3",
   "version": "3.9.7"
  }
 },
 "nbformat": 4,
 "nbformat_minor": 5
}
